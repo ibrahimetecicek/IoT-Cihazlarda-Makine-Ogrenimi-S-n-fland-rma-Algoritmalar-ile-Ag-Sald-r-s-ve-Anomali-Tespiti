{
 "cells": [
  {
   "cell_type": "markdown",
   "metadata": {
    "colab_type": "text",
    "id": "4EZosjXbquIb"
   },
   "source": [
    "# Data Cleaning"
   ]
  },
  {
   "cell_type": "code",
   "execution_count": 41,
   "metadata": {
    "colab": {},
    "colab_type": "code",
    "id": "n-oLiHtFquIe"
   },
   "outputs": [],
   "source": [
    "import pandas as pd\n",
    "df_data_1 = pd.read_csv(\"mainSimulationAccessTraces.csv\")"
   ]
  },
  {
   "cell_type": "markdown",
   "metadata": {
    "colab_type": "text",
    "id": "MqSZBL3kquIu"
   },
   "source": [
    "# Missing Value"
   ]
  },
  {
   "cell_type": "code",
   "execution_count": 42,
   "metadata": {
    "colab": {},
    "colab_type": "code",
    "id": "2zENdqxOquIv"
   },
   "outputs": [],
   "source": [
    "import numpy as np\n",
    "df_data_1['accessedNodeType'] = df_data_1['accessedNodeType'].fillna(value='/Malicious')"
   ]
  },
  {
   "cell_type": "markdown",
   "metadata": {
    "colab_type": "text",
    "id": "-JaJpoVYquI2"
   },
   "source": [
    "# Unexpected Values"
   ]
  },
  {
   "cell_type": "code",
   "execution_count": 43,
   "metadata": {
    "colab": {},
    "colab_type": "code",
    "id": "mnGBFPBFquI3"
   },
   "outputs": [],
   "source": [
    "df_data_1.loc[df_data_1.value=='twenty',\"value\"] = '20.0'\n",
    "df_data_1.loc[df_data_1.value=='false',\"value\"] = '0'\n",
    "df_data_1.loc[df_data_1.value=='true',\"value\"] = '1'\n",
    "df_data_1.loc[df_data_1.value=='none',\"value\"] = '0'\n",
    "df_data_1.loc[df_data_1.value=='0',\"value\"] = '0.0'\n",
    "df_data_1['value'] = df_data_1['value'].fillna(value='60.0')\n",
    "df_data_1 = df_data_1.drop(df_data_1.index[df_data_1.value.str.contains(\"org.*\")])\n",
    "df_data_1.value = df_data_1.value.astype(float)"
   ]
  },
  {
   "cell_type": "markdown",
   "metadata": {
    "colab_type": "text",
    "id": "21Yc8nTMquI6"
   },
   "source": [
    "# Cleaned Data"
   ]
  },
  {
   "cell_type": "code",
   "execution_count": 44,
   "metadata": {
    "colab": {},
    "colab_type": "code",
    "id": "pAZ4A4DBquI7",
    "outputId": "4f038a71-051e-4a1f-e7aa-cece05a65054"
   },
   "outputs": [
    {
     "data": {
      "text/html": [
       "<div>\n",
       "<style scoped>\n",
       "    .dataframe tbody tr th:only-of-type {\n",
       "        vertical-align: middle;\n",
       "    }\n",
       "\n",
       "    .dataframe tbody tr th {\n",
       "        vertical-align: top;\n",
       "    }\n",
       "\n",
       "    .dataframe thead th {\n",
       "        text-align: right;\n",
       "    }\n",
       "</style>\n",
       "<table border=\"1\" class=\"dataframe\">\n",
       "  <thead>\n",
       "    <tr style=\"text-align: right;\">\n",
       "      <th></th>\n",
       "      <th>sourceID</th>\n",
       "      <th>sourceAddress</th>\n",
       "      <th>sourceType</th>\n",
       "      <th>sourceLocation</th>\n",
       "      <th>destinationServiceAddress</th>\n",
       "      <th>destinationServiceType</th>\n",
       "      <th>destinationLocation</th>\n",
       "      <th>accessedNodeAddress</th>\n",
       "      <th>accessedNodeType</th>\n",
       "      <th>operation</th>\n",
       "      <th>value</th>\n",
       "      <th>timestamp</th>\n",
       "      <th>normality</th>\n",
       "    </tr>\n",
       "  </thead>\n",
       "  <tbody>\n",
       "    <tr>\n",
       "      <th>0</th>\n",
       "      <td>lightcontrol2</td>\n",
       "      <td>/agent2/lightcontrol2</td>\n",
       "      <td>/lightControler</td>\n",
       "      <td>BedroomParents</td>\n",
       "      <td>/agent2/lightcontrol2</td>\n",
       "      <td>/lightControler</td>\n",
       "      <td>BedroomParents</td>\n",
       "      <td>/agent2/lightcontrol2</td>\n",
       "      <td>/lightControler</td>\n",
       "      <td>registerService</td>\n",
       "      <td>0.0</td>\n",
       "      <td>1520031600000</td>\n",
       "      <td>normal</td>\n",
       "    </tr>\n",
       "    <tr>\n",
       "      <th>1</th>\n",
       "      <td>lightcontrol3</td>\n",
       "      <td>/agent3/lightcontrol3</td>\n",
       "      <td>/lightControler</td>\n",
       "      <td>Dinningroom</td>\n",
       "      <td>/agent3/lightcontrol3</td>\n",
       "      <td>/lightControler</td>\n",
       "      <td>Dinningroom</td>\n",
       "      <td>/agent3/lightcontrol3</td>\n",
       "      <td>/lightControler</td>\n",
       "      <td>registerService</td>\n",
       "      <td>0.0</td>\n",
       "      <td>1520031603269</td>\n",
       "      <td>normal</td>\n",
       "    </tr>\n",
       "    <tr>\n",
       "      <th>2</th>\n",
       "      <td>lightcontrol1</td>\n",
       "      <td>/agent1/lightcontrol1</td>\n",
       "      <td>/lightControler</td>\n",
       "      <td>BedroomChildren</td>\n",
       "      <td>/agent1/lightcontrol1</td>\n",
       "      <td>/lightControler</td>\n",
       "      <td>BedroomChildren</td>\n",
       "      <td>/agent1/lightcontrol1</td>\n",
       "      <td>/lightControler</td>\n",
       "      <td>registerService</td>\n",
       "      <td>0.0</td>\n",
       "      <td>1520031603279</td>\n",
       "      <td>normal</td>\n",
       "    </tr>\n",
       "    <tr>\n",
       "      <th>3</th>\n",
       "      <td>lightcontrol4</td>\n",
       "      <td>/agent4/lightcontrol4</td>\n",
       "      <td>/lightControler</td>\n",
       "      <td>Kitchen</td>\n",
       "      <td>/agent4/lightcontrol4</td>\n",
       "      <td>/lightControler</td>\n",
       "      <td>Kitchen</td>\n",
       "      <td>/agent4/lightcontrol4</td>\n",
       "      <td>/lightControler</td>\n",
       "      <td>registerService</td>\n",
       "      <td>0.0</td>\n",
       "      <td>1520031603290</td>\n",
       "      <td>normal</td>\n",
       "    </tr>\n",
       "    <tr>\n",
       "      <th>4</th>\n",
       "      <td>movement4</td>\n",
       "      <td>/agent4/movement4</td>\n",
       "      <td>/movementSensor</td>\n",
       "      <td>Kitchen</td>\n",
       "      <td>/agent4/movement4</td>\n",
       "      <td>/movementSensor</td>\n",
       "      <td>Kitchen</td>\n",
       "      <td>/agent4/movement4</td>\n",
       "      <td>/movementSensor</td>\n",
       "      <td>registerService</td>\n",
       "      <td>0.0</td>\n",
       "      <td>1520031603464</td>\n",
       "      <td>normal</td>\n",
       "    </tr>\n",
       "  </tbody>\n",
       "</table>\n",
       "</div>"
      ],
      "text/plain": [
       "        sourceID          sourceAddress       sourceType   sourceLocation  \\\n",
       "0  lightcontrol2  /agent2/lightcontrol2  /lightControler   BedroomParents   \n",
       "1  lightcontrol3  /agent3/lightcontrol3  /lightControler      Dinningroom   \n",
       "2  lightcontrol1  /agent1/lightcontrol1  /lightControler  BedroomChildren   \n",
       "3  lightcontrol4  /agent4/lightcontrol4  /lightControler          Kitchen   \n",
       "4      movement4      /agent4/movement4  /movementSensor          Kitchen   \n",
       "\n",
       "  destinationServiceAddress destinationServiceType destinationLocation  \\\n",
       "0     /agent2/lightcontrol2        /lightControler      BedroomParents   \n",
       "1     /agent3/lightcontrol3        /lightControler         Dinningroom   \n",
       "2     /agent1/lightcontrol1        /lightControler     BedroomChildren   \n",
       "3     /agent4/lightcontrol4        /lightControler             Kitchen   \n",
       "4         /agent4/movement4        /movementSensor             Kitchen   \n",
       "\n",
       "     accessedNodeAddress accessedNodeType        operation  value  \\\n",
       "0  /agent2/lightcontrol2  /lightControler  registerService    0.0   \n",
       "1  /agent3/lightcontrol3  /lightControler  registerService    0.0   \n",
       "2  /agent1/lightcontrol1  /lightControler  registerService    0.0   \n",
       "3  /agent4/lightcontrol4  /lightControler  registerService    0.0   \n",
       "4      /agent4/movement4  /movementSensor  registerService    0.0   \n",
       "\n",
       "       timestamp normality  \n",
       "0  1520031600000    normal  \n",
       "1  1520031603269    normal  \n",
       "2  1520031603279    normal  \n",
       "3  1520031603290    normal  \n",
       "4  1520031603464    normal  "
      ]
     },
     "execution_count": 44,
     "metadata": {},
     "output_type": "execute_result"
    }
   ],
   "source": [
    "df_data_1.head()"
   ]
  },
  {
   "cell_type": "markdown",
   "metadata": {
    "colab_type": "text",
    "id": "iKRqHaD7quJJ"
   },
   "source": [
    "# Frequency Distribution Visualization"
   ]
  },
  {
   "cell_type": "code",
   "execution_count": 45,
   "metadata": {
    "colab": {},
    "colab_type": "code",
    "id": "Eal9VIMDquJK"
   },
   "outputs": [],
   "source": [
    "import matplotlib.pyplot as plt\n",
    "import random\n",
    "import numpy as np"
   ]
  },
  {
   "cell_type": "code",
   "execution_count": 46,
   "metadata": {
    "colab": {},
    "colab_type": "code",
    "id": "qNPs-A_PquJP",
    "outputId": "7c39a2a7-a374-42cc-faf6-1ec349b633aa"
   },
   "outputs": [
    {
     "data": {
      "image/png": "[encoded data removed]",
      "text/plain": [
       "<Figure size 504x432 with 1 Axes>"
      ]
     },
     "metadata": {
      "needs_background": "light"
     },
     "output_type": "display_data"
    }
   ],
   "source": [
    "source_loc_count = df_data_1.sourceLocation.value_counts()\n",
    "plt.figure(figsize=(7,6))\n",
    "ax=plt.subplot(111)\n",
    "plt.bar(source_loc_count.index, source_loc_count.values)\n",
    "plt.grid()\n",
    "plt.ylabel('Number of Occurrences', fontsize=20)\n",
    "plt.xlabel('Source Location', fontsize=20)\n",
    "plt.xticks(rotation=90,fontsize=15)\n",
    "plt.yticks(fontsize=15)\n",
    "plt.show()"
   ]
  },
  {
   "cell_type": "code",
   "execution_count": 47,
   "metadata": {
    "colab": {},
    "colab_type": "code",
    "id": "eQRbllLfquJU",
    "outputId": "c7194340-688d-4921-e5d5-397342086d2c"
   },
   "outputs": [
    {
     "name": "stdout",
     "output_type": "stream",
     "text": [
      "Garage 39499\n",
      "Watterroom 38368\n",
      "Entrance 38217\n",
      "Bathroom 28461\n",
      "Showerroom 28315\n",
      "Kitchen 18962\n",
      "Dinningroom 13429\n",
      "BedroomChildren 12836\n",
      "room_6 11642\n",
      "Bedroom 11009\n",
      "BedroomParents 10946\n",
      "room_8 10798\n",
      "room_9 10752\n",
      "Livingroom 10620\n",
      "room_2 10606\n",
      "room_1 10601\n",
      "room_3 10597\n",
      "room_5 10596\n",
      "room_4 10572\n",
      "room_7 10558\n",
      "room_10 10557\n"
     ]
    }
   ],
   "source": [
    "for i,j in zip(source_loc_count.index,source_loc_count.values):\n",
    "    print(i,j)"
   ]
  },
  {
   "cell_type": "code",
   "execution_count": 48,
   "metadata": {
    "colab": {},
    "colab_type": "code",
    "id": "teln0-boquJZ",
    "outputId": "b1532d2f-7308-4567-9c33-761d80548a3e"
   },
   "outputs": [
    {
     "data": {
      "image/png": "[encoded data removed]",
      "text/plain": [
       "<Figure size 504x432 with 1 Axes>"
      ]
     },
     "metadata": {
      "needs_background": "light"
     },
     "output_type": "display_data"
    }
   ],
   "source": [
    "source_type_count = df_data_1.sourceType.value_counts()\n",
    "plt.figure(figsize=(7,6))\n",
    "ax=plt.subplot(111)\n",
    "plt.grid()\n",
    "plt.bar(source_type_count.index, source_type_count.values)\n",
    "plt.ylabel('Number of Occurrences', fontsize=20)\n",
    "plt.xlabel('Source Type', fontsize=20)\n",
    "plt.xticks(rotation=90, fontsize=15)\n",
    "plt.yticks(fontsize=15)\n",
    "plt.show()"
   ]
  },
  {
   "cell_type": "code",
   "execution_count": 49,
   "metadata": {
    "colab": {},
    "colab_type": "code",
    "id": "bX2q4-YDquJc",
    "outputId": "3e699830-21e9-412c-bd6b-fd523ecbd241"
   },
   "outputs": [
    {
     "name": "stdout",
     "output_type": "stream",
     "text": [
      "/lightControler\n",
      "/sensorService\n",
      "/batteryService\n",
      "/washingService\n",
      "/thermostat\n",
      "/movementSensor\n",
      "/doorLockService\n",
      "/smartPhone\n"
     ]
    }
   ],
   "source": [
    "for i in source_type_count.index:\n",
    "    print(i)"
   ]
  },
  {
   "cell_type": "code",
   "execution_count": 50,
   "metadata": {
    "colab": {},
    "colab_type": "code",
    "id": "JVR0Rv8gquJi",
    "outputId": "54396685-a92c-4f6d-f99b-2a65f2c55a0c"
   },
   "outputs": [
    {
     "name": "stdout",
     "output_type": "stream",
     "text": [
      "135775\n",
      "85196\n",
      "81267\n",
      "47986\n",
      "5980\n",
      "1301\n",
      "330\n",
      "106\n"
     ]
    }
   ],
   "source": [
    "for i in source_type_count.values:\n",
    "    print(i)"
   ]
  },
  {
   "cell_type": "code",
   "execution_count": 51,
   "metadata": {
    "colab": {},
    "colab_type": "code",
    "id": "7flOdWvAquJm",
    "outputId": "ca77ced0-effc-4b0c-aa84-1b490368dede"
   },
   "outputs": [
    {
     "data": {
      "image/png": "[encoded data removed]",
      "text/plain": [
       "<Figure size 504x432 with 1 Axes>"
      ]
     },
     "metadata": {
      "needs_background": "light"
     },
     "output_type": "display_data"
    }
   ],
   "source": [
    "destination_type_count = df_data_1.destinationServiceType.value_counts()\n",
    "plt.figure(figsize=(7,6))\n",
    "ax=plt.subplot(111)\n",
    "plt.grid()\n",
    "plt.bar(destination_type_count.index, destination_type_count.values)\n",
    "plt.ylabel('Number of Occurrences', fontsize=20)\n",
    "plt.xlabel('Destination Service Type', fontsize=20)\n",
    "plt.xticks(rotation=90, fontsize=15)\n",
    "plt.yticks(fontsize=15)\n",
    "plt.show()"
   ]
  },
  {
   "cell_type": "code",
   "execution_count": 52,
   "metadata": {
    "colab": {},
    "colab_type": "code",
    "id": "Nr8YKeftquJr",
    "outputId": "5789cd75-9e66-4dcc-ce0d-7748e3d0e432"
   },
   "outputs": [
    {
     "name": "stdout",
     "output_type": "stream",
     "text": [
      "/sensorService\n",
      "/batteryService\n",
      "/movementSensor\n",
      "/washingService\n",
      "/lightControler\n",
      "/doorLockService\n",
      "/thermostat\n",
      "/smartPhone\n"
     ]
    }
   ],
   "source": [
    "for i in destination_type_count.index:\n",
    "    print(i)"
   ]
  },
  {
   "cell_type": "code",
   "execution_count": 53,
   "metadata": {
    "colab": {},
    "colab_type": "code",
    "id": "JhJzi-wTquJ2",
    "outputId": "fbb6e103-cca0-4c2c-af12-e53fb77836eb"
   },
   "outputs": [
    {
     "name": "stdout",
     "output_type": "stream",
     "text": [
      "130313\n",
      "129119\n",
      "93645\n",
      "1805\n",
      "1694\n",
      "1043\n",
      "319\n",
      "3\n"
     ]
    }
   ],
   "source": [
    "for i in destination_type_count.values:\n",
    "    print(i)"
   ]
  },
  {
   "cell_type": "code",
   "execution_count": 54,
   "metadata": {
    "colab": {},
    "colab_type": "code",
    "id": "jKR7xbUyquKC",
    "outputId": "475d464c-bb6c-48f9-ff4c-30f7c6f2200a"
   },
   "outputs": [
    {
     "data": {
      "image/png": "[encoded data removed]",
      "text/plain": [
       "<Figure size 504x432 with 1 Axes>"
      ]
     },
     "metadata": {
      "needs_background": "light"
     },
     "output_type": "display_data"
    }
   ],
   "source": [
    "destination_location_count = df_data_1.destinationLocation.value_counts()\n",
    "plt.figure(figsize=(7,6))\n",
    "ax=plt.subplot(111)\n",
    "plt.grid()\n",
    "plt.bar(destination_location_count.index, destination_location_count.values)\n",
    "plt.ylabel('Number of Occurrences', fontsize=20)\n",
    "plt.xlabel('Destination Location', fontsize=20)\n",
    "plt.xticks(rotation=90, fontsize=15)\n",
    "plt.yticks(fontsize=15)\n",
    "plt.show()"
   ]
  },
  {
   "cell_type": "code",
   "execution_count": 55,
   "metadata": {
    "colab": {},
    "colab_type": "code",
    "id": "XippO2thquKG",
    "outputId": "ba621ed6-ec4e-49f0-885d-ad0013b92c4a"
   },
   "outputs": [
    {
     "name": "stdout",
     "output_type": "stream",
     "text": [
      "Garage\n",
      "Entrance\n",
      "Watterroom\n",
      "Kitchen\n",
      "BedroomChildren\n",
      "Bathroom\n",
      "Showerroom\n",
      "BedroomParents\n",
      "room_9\n",
      "room_2\n",
      "room_1\n",
      "Livingroom\n",
      "Dinningroom\n",
      "room_6\n",
      "room_3\n",
      "room_4\n",
      "room_5\n",
      "room_8\n",
      "room_7\n",
      "room_10\n",
      "Bedroom\n"
     ]
    }
   ],
   "source": [
    "for i in destination_location_count.index:\n",
    "    print(i)"
   ]
  },
  {
   "cell_type": "code",
   "execution_count": 56,
   "metadata": {
    "colab": {},
    "colab_type": "code",
    "id": "XXBqOlQRquKN",
    "outputId": "81a1b073-0f40-4c07-9de2-47734978556c"
   },
   "outputs": [
    {
     "name": "stdout",
     "output_type": "stream",
     "text": [
      "57100\n",
      "54448\n",
      "38524\n",
      "19437\n",
      "12768\n",
      "12684\n",
      "12583\n",
      "10938\n",
      "10843\n",
      "10828\n",
      "10805\n",
      "10781\n",
      "10759\n",
      "10741\n",
      "10732\n",
      "10708\n",
      "10687\n",
      "10651\n",
      "10649\n",
      "10648\n",
      "10627\n"
     ]
    }
   ],
   "source": [
    "for i in destination_location_count.values:\n",
    "    print(i)"
   ]
  },
  {
   "cell_type": "code",
   "execution_count": 57,
   "metadata": {
    "colab": {},
    "colab_type": "code",
    "id": "Aidtiq5tquKb",
    "outputId": "08cdbdc0-f2d6-41d4-8554-856fcb4c7381"
   },
   "outputs": [
    {
     "data": {
      "image/png": "[encoded data removed]",
      "text/plain": [
       "<Figure size 504x432 with 1 Axes>"
      ]
     },
     "metadata": {
      "needs_background": "light"
     },
     "output_type": "display_data"
    }
   ],
   "source": [
    "accessed_node_count = df_data_1.accessedNodeType.value_counts()\n",
    "plt.figure(figsize=(7,6))\n",
    "ax=plt.subplot(111)\n",
    "plt.grid()\n",
    "plt.bar(accessed_node_count.index, accessed_node_count.values)\n",
    "plt.ylabel('Number of Occurrences', fontsize=20)\n",
    "plt.xlabel('Accessed Node', fontsize=20)\n",
    "plt.xticks(rotation=90, fontsize=15)\n",
    "plt.yticks(fontsize=15)\n",
    "plt.show()"
   ]
  },
  {
   "cell_type": "code",
   "execution_count": 58,
   "metadata": {
    "colab": {},
    "colab_type": "code",
    "id": "ronoseg6quKj",
    "outputId": "5ce527bf-4b26-419f-9a78-4575bf5e49d2"
   },
   "outputs": [
    {
     "name": "stdout",
     "output_type": "stream",
     "text": [
      "/sensorService\n",
      "/derived/boolean\n",
      "/basic/number\n",
      "/basic/text\n",
      "/thermostat\n",
      "/Malicious\n",
      "/basic/composed\n",
      "/lightControler\n",
      "/movementSensor\n",
      "/batteryService\n",
      "/doorLockService\n",
      "/washingService\n",
      "/smartPhone\n"
     ]
    }
   ],
   "source": [
    "for i in accessed_node_count.index:\n",
    "    print(i)"
   ]
  },
  {
   "cell_type": "code",
   "execution_count": 59,
   "metadata": {
    "colab": {},
    "colab_type": "code",
    "id": "L1wPjB-1quKm",
    "outputId": "80cf7a2a-a0d7-436c-a29f-02a1b5d8b12e"
   },
   "outputs": [
    {
     "name": "stdout",
     "output_type": "stream",
     "text": [
      "130155\n",
      "94725\n",
      "90010\n",
      "42428\n",
      "313\n",
      "148\n",
      "100\n",
      "23\n",
      "22\n",
      "6\n",
      "5\n",
      "3\n",
      "3\n"
     ]
    }
   ],
   "source": [
    "for i in accessed_node_count.values:\n",
    "    print(i)"
   ]
  },
  {
   "cell_type": "code",
   "execution_count": 60,
   "metadata": {
    "colab": {},
    "colab_type": "code",
    "id": "aUM5OO3PquKu",
    "outputId": "7cdd880f-9ab6-4b39-dc87-4f9b24768c14"
   },
   "outputs": [
    {
     "data": {
      "image/png": "[encoded data removed]",
      "text/plain": [
       "<Figure size 504x432 with 1 Axes>"
      ]
     },
     "metadata": {
      "needs_background": "light"
     },
     "output_type": "display_data"
    }
   ],
   "source": [
    "operation_count = df_data_1.operation.value_counts()\n",
    "plt.figure(figsize=(7,6))\n",
    "ax=plt.subplot(111)\n",
    "plt.grid()\n",
    "plt.bar(operation_count.index, operation_count.values)\n",
    "plt.ylabel('Number of Occurrences', fontsize=20)\n",
    "plt.xlabel('Operation', fontsize=20)\n",
    "plt.xticks(rotation=90, fontsize=15)\n",
    "plt.yticks(fontsize=15)\n",
    "plt.show()"
   ]
  },
  {
   "cell_type": "code",
   "execution_count": 61,
   "metadata": {
    "colab": {},
    "colab_type": "code",
    "id": "DsDL6dZHquKy",
    "outputId": "73b1cf6d-0897-49b8-ebc3-e892d6d1ad08"
   },
   "outputs": [
    {
     "name": "stdout",
     "output_type": "stream",
     "text": [
      "read\n",
      "write\n",
      "lockSubtree\n",
      "registerService\n"
     ]
    }
   ],
   "source": [
    "for i in operation_count.index:\n",
    "    print(i)"
   ]
  },
  {
   "cell_type": "code",
   "execution_count": 62,
   "metadata": {
    "colab": {},
    "colab_type": "code",
    "id": "xrzr84ExquK1",
    "outputId": "2d4a2c5a-5f0e-4b88-e45d-b9e1ab013454"
   },
   "outputs": [
    {
     "name": "stdout",
     "output_type": "stream",
     "text": [
      "248061\n",
      "109648\n",
      "148\n",
      "84\n"
     ]
    }
   ],
   "source": [
    "for i in operation_count.values:\n",
    "    print(i)"
   ]
  },
  {
   "cell_type": "code",
   "execution_count": 63,
   "metadata": {
    "colab": {},
    "colab_type": "code",
    "id": "LpErZF1YquK9",
    "outputId": "744a3d4c-95cc-4d55-f497-e851dff89776"
   },
   "outputs": [
    {
     "data": {
      "image/png": "[encoded data removed]",
      "text/plain": [
       "<Figure size 504x432 with 1 Axes>"
      ]
     },
     "metadata": {
      "needs_background": "light"
     },
     "output_type": "display_data"
    }
   ],
   "source": [
    "normality_count = df_data_1.normality.value_counts()\n",
    "indices = ['normal', 'DoSattack', 'scan', 'malitiousControl', 'malitiousOperation', 'spying', 'dataProbing', 'wrongSetUp']\n",
    "plt.figure(figsize=(7,6))\n",
    "ax=plt.subplot(111)\n",
    "plt.grid()\n",
    "plt.bar(indices, normality_count.values)\n",
    "plt.ylabel('Number of Occurrences', fontsize=20)\n",
    "plt.xlabel('Normality', fontsize=20)\n",
    "plt.xticks(rotation=90, fontsize=15)\n",
    "plt.yticks(fontsize=15)\n",
    "plt.show()"
   ]
  },
  {
   "cell_type": "code",
   "execution_count": 64,
   "metadata": {
    "colab": {},
    "colab_type": "code",
    "id": "8ofoc7AMquLC",
    "outputId": "c2bedd5d-d859-446d-8602-49487451ab43"
   },
   "outputs": [
    {
     "name": "stdout",
     "output_type": "stream",
     "text": [
      "normal\n",
      "anomalous(DoSattack)\n",
      "anomalous(scan)\n",
      "anomalous(malitiousControl)\n",
      "anomalous(malitiousOperation)\n",
      "anomalous(spying)\n",
      "anomalous(dataProbing)\n",
      "anomalous(wrongSetUp)\n"
     ]
    }
   ],
   "source": [
    "for i in normality_count.index:\n",
    "    print(i)"
   ]
  },
  {
   "cell_type": "code",
   "execution_count": 65,
   "metadata": {
    "colab": {},
    "colab_type": "code",
    "id": "kO9EijGzquLF",
    "outputId": "f2dfd15f-63b4-40f3-d28b-06ba30a8a85b"
   },
   "outputs": [
    {
     "name": "stdout",
     "output_type": "stream",
     "text": [
      "347924\n",
      "5780\n",
      "1547\n",
      "889\n",
      "805\n",
      "532\n",
      "342\n",
      "122\n"
     ]
    }
   ],
   "source": [
    "for i in normality_count.values:\n",
    "    print(i)"
   ]
  },
  {
   "cell_type": "markdown",
   "metadata": {
    "colab_type": "text",
    "id": "_rG8p7pCquL0"
   },
   "source": [
    "# Making Features"
   ]
  },
  {
   "cell_type": "code",
   "execution_count": 66,
   "metadata": {
    "colab": {},
    "colab_type": "code",
    "id": "yUqvj98bquL3"
   },
   "outputs": [],
   "source": [
    "df_1 = df_data_1.drop('timestamp',axis=1)"
   ]
  },
  {
   "cell_type": "code",
   "execution_count": 67,
   "metadata": {
    "colab": {},
    "colab_type": "code",
    "id": "fUrqHh4EquL8"
   },
   "outputs": [],
   "source": [
    "from sklearn.preprocessing import LabelEncoder\n",
    "labelencoder0 = LabelEncoder()\n",
    "labelencoder1 = LabelEncoder()\n",
    "labelencoder4 = LabelEncoder()\n",
    "labelencoder7 = LabelEncoder()\n",
    "labelencodery = LabelEncoder()"
   ]
  },
  {
   "cell_type": "code",
   "execution_count": 68,
   "metadata": {
    "colab": {},
    "colab_type": "code",
    "id": "59jb9J7yquL_"
   },
   "outputs": [],
   "source": [
    "X_0 = df_1.iloc[:,0].values\n",
    "X_1 = df_1.iloc[:,1].values\n",
    "X_4 = df_1.iloc[:,4].values\n",
    "X_7 = df_1.iloc[:,7].values\n",
    "y = df_1.iloc[:,11].values"
   ]
  },
  {
   "cell_type": "code",
   "execution_count": 69,
   "metadata": {
    "colab": {},
    "colab_type": "code",
    "id": "neh9yTCIquME"
   },
   "outputs": [],
   "source": [
    "X_0 = labelencoder0.fit_transform(X_0)\n",
    "X_0 = X_0.reshape(len(X_0),1)\n",
    "X_1 = labelencoder1.fit_transform(X_1)\n",
    "X_1 = X_1.reshape(len(X_1),1)\n",
    "X_4 = labelencoder4.fit_transform(X_4)\n",
    "X_4 = X_4.reshape(len(X_4),1)\n",
    "X_7 = labelencoder7.fit_transform(X_7)\n",
    "X_7 = X_7.reshape(len(X_7),1)\n",
    "y = labelencodery.fit_transform(y)"
   ]
  },
  {
   "cell_type": "code",
   "execution_count": 70,
   "metadata": {
    "colab": {},
    "colab_type": "code",
    "id": "15s_JW5IquMx"
   },
   "outputs": [],
   "source": [
    "from sklearn.preprocessing import OneHotEncoder\n",
    "ohe_2 = OneHotEncoder()\n",
    "ohe_3 = OneHotEncoder()\n",
    "ohe_5 = OneHotEncoder()\n",
    "ohe_6 = OneHotEncoder()\n",
    "ohe_8 = OneHotEncoder()\n",
    "ohe_9 = OneHotEncoder()\n",
    "le_2 = LabelEncoder()\n",
    "le_3 = LabelEncoder()\n",
    "le_5 = LabelEncoder()\n",
    "le_6 = LabelEncoder()\n",
    "le_8 = LabelEncoder()\n",
    "le_9 = LabelEncoder()"
   ]
  },
  {
   "cell_type": "code",
   "execution_count": 71,
   "metadata": {
    "colab": {},
    "colab_type": "code",
    "id": "Zf27CUALquM0"
   },
   "outputs": [],
   "source": [
    "X_2 = df_1.iloc[:,2].values\n",
    "X_3 = df_1.iloc[:,3].values\n",
    "X_5 = df_1.iloc[:,5].values\n",
    "X_6 = df_1.iloc[:,6].values\n",
    "X_8 = df_1.iloc[:,8].values\n",
    "X_9 = df_1.iloc[:,9].values\n",
    "X_10 = df_1.iloc[:,10].values"
   ]
  },
  {
   "cell_type": "code",
   "execution_count": 72,
   "metadata": {
    "colab": {},
    "colab_type": "code",
    "id": "7vp8ao5iquM8"
   },
   "outputs": [],
   "source": [
    "X_2 = le_2.fit_transform(X_2)\n",
    "X_2 = X_2.reshape(len(X_2),1)\n",
    "#X_2 = ohe_2.fit_transform(X_2)\n",
    "X_3 = le_3.fit_transform(X_3)\n",
    "X_3 = X_3.reshape(len(X_3),1)\n",
    "#X_3 = ohe_3.fit_transform(X_3)\n",
    "X_5 = le_5.fit_transform(X_5)\n",
    "X_5 = X_5.reshape(len(X_5),1)\n",
    "#X_5 = ohe_5.fit_transform(X_5)\n",
    "X_6 = le_6.fit_transform(X_6)\n",
    "X_6 = X_6.reshape(len(X_6),1)\n",
    "#X_6 = ohe_6.fit_transform(X_6)\n",
    "X_8 = le_8.fit_transform(X_8)\n",
    "X_8 = X_8.reshape(len(X_8),1)\n",
    "#X_8 = ohe_8.fit_transform(X_8)\n",
    "X_9 = le_9.fit_transform(X_9)\n",
    "X_9 = X_9.reshape(len(X_9),1)\n",
    "#X_9 = ohe_9.fit_transform(X_9)\n",
    "X_10 = X_10.reshape(len(X_10),1)"
   ]
  },
  {
   "cell_type": "code",
   "execution_count": 73,
   "metadata": {
    "colab": {},
    "colab_type": "code",
    "id": "b_mdASUSquM_"
   },
   "outputs": [],
   "source": [
    "X = np.concatenate((X_0,X_1,X_2,X_3,X_4,X_5,X_6,X_7,X_8,X_9,X_10),axis=1)"
   ]
  },
  {
   "cell_type": "code",
   "execution_count": 74,
   "metadata": {
    "colab": {},
    "colab_type": "code",
    "id": "00sy55XgquND",
    "outputId": "9b420e93-529e-4189-e187-9f28d3cd0ae9"
   },
   "outputs": [
    {
     "data": {
      "text/plain": [
       "array(['anomalous(DoSattack)', 'anomalous(dataProbing)',\n",
       "       'anomalous(malitiousControl)', 'anomalous(malitiousOperation)',\n",
       "       'anomalous(scan)', 'anomalous(spying)', 'anomalous(wrongSetUp)',\n",
       "       'normal'], dtype=object)"
      ]
     },
     "execution_count": 74,
     "metadata": {},
     "output_type": "execute_result"
    }
   ],
   "source": [
    "labelencodery.classes_"
   ]
  },
  {
   "cell_type": "code",
   "execution_count": 75,
   "metadata": {
    "colab": {},
    "colab_type": "code",
    "id": "Q3-T6THHquNG",
    "outputId": "f707446a-1e12-4d20-e3fd-0bb36bf86732"
   },
   "outputs": [
    {
     "data": {
      "text/plain": [
       "array([1])"
      ]
     },
     "execution_count": 75,
     "metadata": {},
     "output_type": "execute_result"
    }
   ],
   "source": [
    "labelencodery.transform(['anomalous(dataProbing)'])"
   ]
  },
  {
   "cell_type": "code",
   "execution_count": 76,
   "metadata": {
    "colab": {},
    "colab_type": "code",
    "id": "PC8hAtefquNO"
   },
   "outputs": [],
   "source": [
    "y_resized = y.reshape(len(y),1)"
   ]
  },
  {
   "cell_type": "code",
   "execution_count": 77,
   "metadata": {
    "colab": {},
    "colab_type": "code",
    "id": "0-WtXMnhquNQ"
   },
   "outputs": [],
   "source": [
    "df_spark = np.concatenate((y_resized,X),axis=1)"
   ]
  },
  {
   "cell_type": "code",
   "execution_count": 78,
   "metadata": {
    "colab": {},
    "colab_type": "code",
    "id": "rCnsGjx6quN4"
   },
   "outputs": [],
   "source": [
    "df_spark = pd.DataFrame(df_spark)"
   ]
  },
  {
   "cell_type": "code",
   "execution_count": 79,
   "metadata": {
    "colab": {},
    "colab_type": "code",
    "id": "35SzNfsPquOF"
   },
   "outputs": [],
   "source": [
    "df_spark.to_csv('DF_Spark.csv')"
   ]
  },
  {
   "cell_type": "code",
   "execution_count": null,
   "metadata": {
    "colab": {},
    "colab_type": "code",
    "id": "ocGmsx5lquOL"
   },
   "outputs": [],
   "source": []
  },
  {
   "cell_type": "code",
   "execution_count": null,
   "metadata": {},
   "outputs": [],
   "source": []
  },
  {
   "cell_type": "code",
   "execution_count": null,
   "metadata": {},
   "outputs": [],
   "source": []
  },
  {
   "cell_type": "code",
   "execution_count": null,
   "metadata": {},
   "outputs": [],
   "source": []
  },
  {
   "cell_type": "code",
   "execution_count": null,
   "metadata": {},
   "outputs": [],
   "source": []
  },
  {
   "cell_type": "code",
   "execution_count": null,
   "metadata": {},
   "outputs": [],
   "source": []
  },
  {
   "cell_type": "code",
   "execution_count": null,
   "metadata": {},
   "outputs": [],
   "source": []
  },
  {
   "cell_type": "code",
   "execution_count": null,
   "metadata": {},
   "outputs": [],
   "source": []
  },
  {
   "cell_type": "code",
   "execution_count": null,
   "metadata": {},
   "outputs": [],
   "source": []
  },
  {
   "cell_type": "code",
   "execution_count": null,
   "metadata": {},
   "outputs": [],
   "source": []
  }
 ],
 "metadata": {
  "colab": {
   "collapsed_sections": [],
   "name": "Preprocessing of The IOT Dataset.ipynb",
   "provenance": [],
   "version": "0.3.2"
  },
  "kernelspec": {
   "display_name": "Python 3",
   "language": "python",
   "name": "python3"
  },
  "language_info": {
   "codemirror_mode": {
    "name": "ipython",
    "version": 3
   },
   "file_extension": ".py",
   "mimetype": "text/x-python",
   "name": "python",
   "nbconvert_exporter": "python",
   "pygments_lexer": "ipython3",
   "version": "3.8.3"
  }
 },
 "nbformat": 4,
 "nbformat_minor": 4
}
