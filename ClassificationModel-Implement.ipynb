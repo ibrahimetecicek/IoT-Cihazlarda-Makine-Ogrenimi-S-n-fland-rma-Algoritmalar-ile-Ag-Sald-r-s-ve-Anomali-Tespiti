{
 "cells": [
  {
   "cell_type": "markdown",
   "metadata": {},
   "source": [
    "## Term Project based M. Sc. Degree"
   ]
  },
  {
   "cell_type": "markdown",
   "metadata": {},
   "source": [
    "## Network Attack and Anomaly Detection with Machine Learning Classification Algorithms on IoT Devices."
   ]
  },
  {
   "cell_type": "markdown",
   "metadata": {},
   "source": [
    "## İbrahim Mete Çiçek"
   ]
  },
  {
   "cell_type": "code",
   "execution_count": 1,
   "metadata": {},
   "outputs": [],
   "source": [
    "import pandas as pd\n",
    "from sklearn.preprocessing import StandardScaler\n",
    "from sklearn.pipeline import Pipeline\n",
    "from sklearn.linear_model import LogisticRegression\n",
    "from sklearn.model_selection import cross_val_score\n",
    "import matplotlib.pyplot as plt\n",
    "from sklearn.model_selection import learning_curve\n",
    "import numpy as np\n",
    "import numpy as np\n",
    "import pandas as pd \n",
    "import statsmodels.api as sm\n",
    "import statsmodels.formula.api as smf\n",
    "import seaborn as sns\n",
    "from sklearn.preprocessing import scale \n",
    "from sklearn.model_selection import train_test_split, GridSearchCV, cross_val_score\n",
    "from sklearn.metrics import confusion_matrix, accuracy_score, classification_report\n",
    "from sklearn.metrics import roc_auc_score,roc_curve\n",
    "import statsmodels.formula.api as smf\n",
    "import matplotlib.pyplot as plt\n",
    "from sklearn.neighbors import KNeighborsClassifier\n",
    "from sklearn.discriminant_analysis import LinearDiscriminantAnalysis\n",
    "from sklearn.svm import SVC\n",
    "from sklearn.naive_bayes import GaussianNB\n",
    "from sklearn import tree\n",
    "from sklearn.ensemble import RandomForestClassifier\n",
    "from sklearn.ensemble import  AdaBoostClassifier\n",
    "from sklearn.ensemble import GradientBoostingClassifier\n",
    "from xgboost import XGBClassifier\n",
    "from lightgbm import LGBMClassifier\n",
    "from catboost import CatBoostClassifier\n",
    "import seaborn as sns\n",
    "from sklearn.gaussian_process import GaussianProcessClassifier\n",
    "from sklearn.metrics import accuracy_score\n",
    "from sklearn.neural_network import MLPClassifier\n",
    "from sklearn.ensemble import RandomForestClassifier\n",
    "from sklearn.datasets import make_classification"
   ]
  },
  {
   "cell_type": "code",
   "execution_count": 2,
   "metadata": {},
   "outputs": [],
   "source": [
    "df_spark = pd.read_csv('df_spark.csv')"
   ]
  },
  {
   "cell_type": "code",
   "execution_count": 3,
   "metadata": {},
   "outputs": [
    {
     "data": {
      "text/html": [
       "<div>\n",
       "<style scoped>\n",
       "    .dataframe tbody tr th:only-of-type {\n",
       "        vertical-align: middle;\n",
       "    }\n",
       "\n",
       "    .dataframe tbody tr th {\n",
       "        vertical-align: top;\n",
       "    }\n",
       "\n",
       "    .dataframe thead th {\n",
       "        text-align: right;\n",
       "    }\n",
       "</style>\n",
       "<table border=\"1\" class=\"dataframe\">\n",
       "  <thead>\n",
       "    <tr style=\"text-align: right;\">\n",
       "      <th></th>\n",
       "      <th>Unnamed: 0</th>\n",
       "      <th>0</th>\n",
       "      <th>1</th>\n",
       "      <th>2</th>\n",
       "      <th>3</th>\n",
       "      <th>4</th>\n",
       "      <th>5</th>\n",
       "      <th>6</th>\n",
       "      <th>7</th>\n",
       "      <th>8</th>\n",
       "      <th>9</th>\n",
       "      <th>10</th>\n",
       "      <th>11</th>\n",
       "    </tr>\n",
       "  </thead>\n",
       "  <tbody>\n",
       "    <tr>\n",
       "      <th>0</th>\n",
       "      <td>0</td>\n",
       "      <td>7.0</td>\n",
       "      <td>21.0</td>\n",
       "      <td>30.0</td>\n",
       "      <td>2.0</td>\n",
       "      <td>3.0</td>\n",
       "      <td>30.0</td>\n",
       "      <td>2.0</td>\n",
       "      <td>3.0</td>\n",
       "      <td>59.0</td>\n",
       "      <td>7.0</td>\n",
       "      <td>2.0</td>\n",
       "      <td>0.0</td>\n",
       "    </tr>\n",
       "    <tr>\n",
       "      <th>1</th>\n",
       "      <td>1</td>\n",
       "      <td>7.0</td>\n",
       "      <td>32.0</td>\n",
       "      <td>70.0</td>\n",
       "      <td>2.0</td>\n",
       "      <td>4.0</td>\n",
       "      <td>68.0</td>\n",
       "      <td>2.0</td>\n",
       "      <td>4.0</td>\n",
       "      <td>134.0</td>\n",
       "      <td>7.0</td>\n",
       "      <td>2.0</td>\n",
       "      <td>0.0</td>\n",
       "    </tr>\n",
       "    <tr>\n",
       "      <th>2</th>\n",
       "      <td>2</td>\n",
       "      <td>7.0</td>\n",
       "      <td>15.0</td>\n",
       "      <td>1.0</td>\n",
       "      <td>2.0</td>\n",
       "      <td>2.0</td>\n",
       "      <td>0.0</td>\n",
       "      <td>2.0</td>\n",
       "      <td>2.0</td>\n",
       "      <td>0.0</td>\n",
       "      <td>7.0</td>\n",
       "      <td>2.0</td>\n",
       "      <td>0.0</td>\n",
       "    </tr>\n",
       "    <tr>\n",
       "      <th>3</th>\n",
       "      <td>3</td>\n",
       "      <td>7.0</td>\n",
       "      <td>33.0</td>\n",
       "      <td>77.0</td>\n",
       "      <td>2.0</td>\n",
       "      <td>7.0</td>\n",
       "      <td>73.0</td>\n",
       "      <td>2.0</td>\n",
       "      <td>7.0</td>\n",
       "      <td>144.0</td>\n",
       "      <td>7.0</td>\n",
       "      <td>2.0</td>\n",
       "      <td>0.0</td>\n",
       "    </tr>\n",
       "    <tr>\n",
       "      <th>4</th>\n",
       "      <td>4</td>\n",
       "      <td>7.0</td>\n",
       "      <td>55.0</td>\n",
       "      <td>78.0</td>\n",
       "      <td>3.0</td>\n",
       "      <td>7.0</td>\n",
       "      <td>74.0</td>\n",
       "      <td>3.0</td>\n",
       "      <td>7.0</td>\n",
       "      <td>146.0</td>\n",
       "      <td>8.0</td>\n",
       "      <td>2.0</td>\n",
       "      <td>0.0</td>\n",
       "    </tr>\n",
       "  </tbody>\n",
       "</table>\n",
       "</div>"
      ],
      "text/plain": [
       "   Unnamed: 0    0     1     2    3    4     5    6    7      8    9   10   11\n",
       "0           0  7.0  21.0  30.0  2.0  3.0  30.0  2.0  3.0   59.0  7.0  2.0  0.0\n",
       "1           1  7.0  32.0  70.0  2.0  4.0  68.0  2.0  4.0  134.0  7.0  2.0  0.0\n",
       "2           2  7.0  15.0   1.0  2.0  2.0   0.0  2.0  2.0    0.0  7.0  2.0  0.0\n",
       "3           3  7.0  33.0  77.0  2.0  7.0  73.0  2.0  7.0  144.0  7.0  2.0  0.0\n",
       "4           4  7.0  55.0  78.0  3.0  7.0  74.0  3.0  7.0  146.0  8.0  2.0  0.0"
      ]
     },
     "execution_count": 3,
     "metadata": {},
     "output_type": "execute_result"
    }
   ],
   "source": [
    "df_spark.head()"
   ]
  },
  {
   "cell_type": "code",
   "execution_count": 4,
   "metadata": {},
   "outputs": [],
   "source": [
    "df_spark = df_spark.drop(columns=\"Unnamed: 0\")"
   ]
  },
  {
   "cell_type": "code",
   "execution_count": 5,
   "metadata": {},
   "outputs": [
    {
     "data": {
      "text/html": [
       "<div>\n",
       "<style scoped>\n",
       "    .dataframe tbody tr th:only-of-type {\n",
       "        vertical-align: middle;\n",
       "    }\n",
       "\n",
       "    .dataframe tbody tr th {\n",
       "        vertical-align: top;\n",
       "    }\n",
       "\n",
       "    .dataframe thead th {\n",
       "        text-align: right;\n",
       "    }\n",
       "</style>\n",
       "<table border=\"1\" class=\"dataframe\">\n",
       "  <thead>\n",
       "    <tr style=\"text-align: right;\">\n",
       "      <th></th>\n",
       "      <th>0</th>\n",
       "      <th>1</th>\n",
       "      <th>2</th>\n",
       "      <th>3</th>\n",
       "      <th>4</th>\n",
       "      <th>5</th>\n",
       "      <th>6</th>\n",
       "      <th>7</th>\n",
       "      <th>8</th>\n",
       "      <th>9</th>\n",
       "      <th>10</th>\n",
       "      <th>11</th>\n",
       "    </tr>\n",
       "  </thead>\n",
       "  <tbody>\n",
       "    <tr>\n",
       "      <th>0</th>\n",
       "      <td>7.0</td>\n",
       "      <td>21.0</td>\n",
       "      <td>30.0</td>\n",
       "      <td>2.0</td>\n",
       "      <td>3.0</td>\n",
       "      <td>30.0</td>\n",
       "      <td>2.0</td>\n",
       "      <td>3.0</td>\n",
       "      <td>59.0</td>\n",
       "      <td>7.0</td>\n",
       "      <td>2.0</td>\n",
       "      <td>0.0</td>\n",
       "    </tr>\n",
       "    <tr>\n",
       "      <th>1</th>\n",
       "      <td>7.0</td>\n",
       "      <td>32.0</td>\n",
       "      <td>70.0</td>\n",
       "      <td>2.0</td>\n",
       "      <td>4.0</td>\n",
       "      <td>68.0</td>\n",
       "      <td>2.0</td>\n",
       "      <td>4.0</td>\n",
       "      <td>134.0</td>\n",
       "      <td>7.0</td>\n",
       "      <td>2.0</td>\n",
       "      <td>0.0</td>\n",
       "    </tr>\n",
       "    <tr>\n",
       "      <th>2</th>\n",
       "      <td>7.0</td>\n",
       "      <td>15.0</td>\n",
       "      <td>1.0</td>\n",
       "      <td>2.0</td>\n",
       "      <td>2.0</td>\n",
       "      <td>0.0</td>\n",
       "      <td>2.0</td>\n",
       "      <td>2.0</td>\n",
       "      <td>0.0</td>\n",
       "      <td>7.0</td>\n",
       "      <td>2.0</td>\n",
       "      <td>0.0</td>\n",
       "    </tr>\n",
       "    <tr>\n",
       "      <th>3</th>\n",
       "      <td>7.0</td>\n",
       "      <td>33.0</td>\n",
       "      <td>77.0</td>\n",
       "      <td>2.0</td>\n",
       "      <td>7.0</td>\n",
       "      <td>73.0</td>\n",
       "      <td>2.0</td>\n",
       "      <td>7.0</td>\n",
       "      <td>144.0</td>\n",
       "      <td>7.0</td>\n",
       "      <td>2.0</td>\n",
       "      <td>0.0</td>\n",
       "    </tr>\n",
       "    <tr>\n",
       "      <th>4</th>\n",
       "      <td>7.0</td>\n",
       "      <td>55.0</td>\n",
       "      <td>78.0</td>\n",
       "      <td>3.0</td>\n",
       "      <td>7.0</td>\n",
       "      <td>74.0</td>\n",
       "      <td>3.0</td>\n",
       "      <td>7.0</td>\n",
       "      <td>146.0</td>\n",
       "      <td>8.0</td>\n",
       "      <td>2.0</td>\n",
       "      <td>0.0</td>\n",
       "    </tr>\n",
       "  </tbody>\n",
       "</table>\n",
       "</div>"
      ],
      "text/plain": [
       "     0     1     2    3    4     5    6    7      8    9   10   11\n",
       "0  7.0  21.0  30.0  2.0  3.0  30.0  2.0  3.0   59.0  7.0  2.0  0.0\n",
       "1  7.0  32.0  70.0  2.0  4.0  68.0  2.0  4.0  134.0  7.0  2.0  0.0\n",
       "2  7.0  15.0   1.0  2.0  2.0   0.0  2.0  2.0    0.0  7.0  2.0  0.0\n",
       "3  7.0  33.0  77.0  2.0  7.0  73.0  2.0  7.0  144.0  7.0  2.0  0.0\n",
       "4  7.0  55.0  78.0  3.0  7.0  74.0  3.0  7.0  146.0  8.0  2.0  0.0"
      ]
     },
     "execution_count": 5,
     "metadata": {},
     "output_type": "execute_result"
    }
   ],
   "source": [
    "df_spark.head()"
   ]
  },
  {
   "cell_type": "code",
   "execution_count": 6,
   "metadata": {},
   "outputs": [],
   "source": [
    "y = df_spark.iloc[:,0].values\n",
    "X = df_spark.iloc[:,1:].values"
   ]
  },
  {
   "cell_type": "markdown",
   "metadata": {},
   "source": [
    "## Naive Bayes Classifier"
   ]
  },
  {
   "cell_type": "code",
   "execution_count": 7,
   "metadata": {},
   "outputs": [],
   "source": [
    "from sklearn.model_selection import train_test_split\n",
    "X_train, X_test, y_train, y_test = train_test_split(X,y, test_size=0.20, random_state = 1)"
   ]
  },
  {
   "cell_type": "code",
   "execution_count": 8,
   "metadata": {},
   "outputs": [
    {
     "data": {
      "text/plain": [
       "GaussianNB()"
      ]
     },
     "execution_count": 8,
     "metadata": {},
     "output_type": "execute_result"
    }
   ],
   "source": [
    "nb = GaussianNB()\n",
    "nb_model = nb.fit(X_train, y_train)\n",
    "nb_model"
   ]
  },
  {
   "cell_type": "code",
   "execution_count": 9,
   "metadata": {},
   "outputs": [],
   "source": [
    "y_pred = nb_model.predict(X_test)"
   ]
  },
  {
   "cell_type": "code",
   "execution_count": 10,
   "metadata": {},
   "outputs": [
    {
     "data": {
      "text/plain": [
       "0.018117308525052733"
      ]
     },
     "execution_count": 10,
     "metadata": {},
     "output_type": "execute_result"
    }
   ],
   "source": [
    "accuracy_score(y_test, y_pred)"
   ]
  },
  {
   "cell_type": "code",
   "execution_count": 11,
   "metadata": {},
   "outputs": [
    {
     "name": "stdout",
     "output_type": "stream",
     "text": [
      "              precision    recall  f1-score   support\n",
      "\n",
      "         0.0       0.02      1.00      0.03      1178\n",
      "         1.0       0.00      0.00      0.00        63\n",
      "         2.0       0.00      0.00      0.00       169\n",
      "         3.0       0.00      0.00      0.00       155\n",
      "         4.0       0.00      0.00      0.00       305\n",
      "         5.0       0.00      0.00      0.00       120\n",
      "         6.0       0.00      0.00      0.00        28\n",
      "         7.0       1.00      0.00      0.00     69571\n",
      "\n",
      "    accuracy                           0.02     71589\n",
      "   macro avg       0.13      0.13      0.00     71589\n",
      "weighted avg       0.97      0.02      0.00     71589\n",
      "\n"
     ]
    },
    {
     "name": "stderr",
     "output_type": "stream",
     "text": [
      "C:\\Users\\metec\\anaconda3\\lib\\site-packages\\sklearn\\metrics\\_classification.py:1245: UndefinedMetricWarning: Precision and F-score are ill-defined and being set to 0.0 in labels with no predicted samples. Use `zero_division` parameter to control this behavior.\n",
      "  _warn_prf(average, modifier, msg_start, len(result))\n",
      "C:\\Users\\metec\\anaconda3\\lib\\site-packages\\sklearn\\metrics\\_classification.py:1245: UndefinedMetricWarning: Precision and F-score are ill-defined and being set to 0.0 in labels with no predicted samples. Use `zero_division` parameter to control this behavior.\n",
      "  _warn_prf(average, modifier, msg_start, len(result))\n",
      "C:\\Users\\metec\\anaconda3\\lib\\site-packages\\sklearn\\metrics\\_classification.py:1245: UndefinedMetricWarning: Precision and F-score are ill-defined and being set to 0.0 in labels with no predicted samples. Use `zero_division` parameter to control this behavior.\n",
      "  _warn_prf(average, modifier, msg_start, len(result))\n"
     ]
    }
   ],
   "source": [
    "report = classification_report(y_test, nb_model.predict(X_test))\n",
    "print(report)"
   ]
  },
  {
   "cell_type": "markdown",
   "metadata": {},
   "source": [
    "## K-Nearest Neighboor Classifier"
   ]
  },
  {
   "cell_type": "code",
   "execution_count": 12,
   "metadata": {},
   "outputs": [
    {
     "data": {
      "text/plain": [
       "KNeighborsClassifier()"
      ]
     },
     "execution_count": 12,
     "metadata": {},
     "output_type": "execute_result"
    }
   ],
   "source": [
    "from sklearn.neighbors import KNeighborsClassifier\n",
    "knn = KNeighborsClassifier()\n",
    "knn_model = knn.fit(X_train, y_train)\n",
    "knn_model"
   ]
  },
  {
   "cell_type": "code",
   "execution_count": 13,
   "metadata": {},
   "outputs": [],
   "source": [
    "y_pred = knn_model.predict(X_test)"
   ]
  },
  {
   "cell_type": "code",
   "execution_count": 14,
   "metadata": {},
   "outputs": [
    {
     "data": {
      "text/plain": [
       "0.9937001494643032"
      ]
     },
     "execution_count": 14,
     "metadata": {},
     "output_type": "execute_result"
    }
   ],
   "source": [
    "accuracy_score(y_test, y_pred)"
   ]
  },
  {
   "cell_type": "code",
   "execution_count": 15,
   "metadata": {},
   "outputs": [
    {
     "name": "stdout",
     "output_type": "stream",
     "text": [
      "              precision    recall  f1-score   support\n",
      "\n",
      "         0.0       0.73      1.00      0.84      1178\n",
      "         1.0       1.00      1.00      1.00        63\n",
      "         2.0       1.00      1.00      1.00       169\n",
      "         3.0       1.00      1.00      1.00       155\n",
      "         4.0       0.98      1.00      0.99       305\n",
      "         5.0       1.00      1.00      1.00       120\n",
      "         6.0       1.00      1.00      1.00        28\n",
      "         7.0       1.00      0.99      1.00     69571\n",
      "\n",
      "    accuracy                           0.99     71589\n",
      "   macro avg       0.96      1.00      0.98     71589\n",
      "weighted avg       1.00      0.99      0.99     71589\n",
      "\n"
     ]
    }
   ],
   "source": [
    "print(classification_report(y_test, knn_model.predict(X_test)))"
   ]
  },
  {
   "cell_type": "markdown",
   "metadata": {},
   "source": [
    "## XGBOOST Classifier"
   ]
  },
  {
   "cell_type": "code",
   "execution_count": 16,
   "metadata": {},
   "outputs": [
    {
     "name": "stderr",
     "output_type": "stream",
     "text": [
      "C:\\Users\\metec\\anaconda3\\lib\\site-packages\\xgboost\\sklearn.py:892: UserWarning: The use of label encoder in XGBClassifier is deprecated and will be removed in a future release. To remove this warning, do the following: 1) Pass option use_label_encoder=False when constructing XGBClassifier object; and 2) Encode your labels (y) as integers starting with 0, i.e. 0, 1, 2, ..., [num_class - 1].\n",
      "  warnings.warn(label_encoder_deprecation_msg, UserWarning)\n"
     ]
    },
    {
     "name": "stdout",
     "output_type": "stream",
     "text": [
      "[17:59:22] WARNING: C:/Users/Administrator/workspace/xgboost-win64_release_1.3.0/src/learner.cc:1061: Starting in XGBoost 1.3.0, the default evaluation metric used with the objective 'multi:softprob' was changed from 'merror' to 'mlogloss'. Explicitly set eval_metric if you'd like to restore the old behavior.\n"
     ]
    }
   ],
   "source": [
    "xgb_model = XGBClassifier().fit(X_train, y_train)"
   ]
  },
  {
   "cell_type": "code",
   "execution_count": 17,
   "metadata": {},
   "outputs": [
    {
     "data": {
      "text/plain": [
       "XGBClassifier(base_score=0.5, booster='gbtree', colsample_bylevel=1,\n",
       "              colsample_bynode=1, colsample_bytree=1, gamma=0, gpu_id=-1,\n",
       "              importance_type='gain', interaction_constraints='',\n",
       "              learning_rate=0.300000012, max_delta_step=0, max_depth=6,\n",
       "              min_child_weight=1, missing=nan, monotone_constraints='()',\n",
       "              n_estimators=100, n_jobs=8, num_parallel_tree=1,\n",
       "              objective='multi:softprob', random_state=0, reg_alpha=0,\n",
       "              reg_lambda=1, scale_pos_weight=None, subsample=1,\n",
       "              tree_method='exact', validate_parameters=1, verbosity=None)"
      ]
     },
     "execution_count": 17,
     "metadata": {},
     "output_type": "execute_result"
    }
   ],
   "source": [
    "xgb_model"
   ]
  },
  {
   "cell_type": "code",
   "execution_count": 18,
   "metadata": {},
   "outputs": [
    {
     "data": {
      "text/plain": [
       "0.9943706435346212"
      ]
     },
     "execution_count": 18,
     "metadata": {},
     "output_type": "execute_result"
    }
   ],
   "source": [
    "y_pred = xgb_model.predict(X_test)\n",
    "accuracy_score(y_test, y_pred)"
   ]
  },
  {
   "cell_type": "code",
   "execution_count": 19,
   "metadata": {},
   "outputs": [
    {
     "name": "stdout",
     "output_type": "stream",
     "text": [
      "              precision    recall  f1-score   support\n",
      "\n",
      "         0.0       1.00      0.66      0.79      1178\n",
      "         1.0       1.00      1.00      1.00        63\n",
      "         2.0       1.00      1.00      1.00       169\n",
      "         3.0       1.00      1.00      1.00       155\n",
      "         4.0       1.00      1.00      1.00       305\n",
      "         5.0       1.00      1.00      1.00       120\n",
      "         6.0       1.00      1.00      1.00        28\n",
      "         7.0       0.99      1.00      1.00     69571\n",
      "\n",
      "    accuracy                           0.99     71589\n",
      "   macro avg       1.00      0.96      0.97     71589\n",
      "weighted avg       0.99      0.99      0.99     71589\n",
      "\n"
     ]
    }
   ],
   "source": [
    "report = classification_report(y_test, xgb_model.predict(X_test))\n",
    "print(report)"
   ]
  },
  {
   "cell_type": "markdown",
   "metadata": {},
   "source": [
    "## CAT Boost Classifier"
   ]
  },
  {
   "cell_type": "code",
   "execution_count": 20,
   "metadata": {},
   "outputs": [
    {
     "name": "stdout",
     "output_type": "stream",
     "text": [
      "Learning rate set to 0.105591\n",
      "0:\tlearn: 1.4136248\ttotal: 377ms\tremaining: 6m 17s\n",
      "1:\tlearn: 1.1192666\ttotal: 598ms\tremaining: 4m 58s\n",
      "2:\tlearn: 0.9256429\ttotal: 786ms\tremaining: 4m 21s\n",
      "3:\tlearn: 0.7824008\ttotal: 941ms\tremaining: 3m 54s\n",
      "4:\tlearn: 0.6726744\ttotal: 1.12s\tremaining: 3m 42s\n",
      "5:\tlearn: 0.5856969\ttotal: 1.33s\tremaining: 3m 41s\n",
      "6:\tlearn: 0.5141976\ttotal: 1.49s\tremaining: 3m 31s\n",
      "7:\tlearn: 0.4544402\ttotal: 1.65s\tremaining: 3m 24s\n",
      "8:\tlearn: 0.3992564\ttotal: 1.82s\tremaining: 3m 20s\n",
      "9:\tlearn: 0.3534927\ttotal: 2.01s\tremaining: 3m 18s\n",
      "10:\tlearn: 0.3161163\ttotal: 2.22s\tremaining: 3m 19s\n",
      "11:\tlearn: 0.2842506\ttotal: 2.38s\tremaining: 3m 16s\n",
      "12:\tlearn: 0.2546462\ttotal: 2.59s\tremaining: 3m 16s\n",
      "13:\tlearn: 0.2299275\ttotal: 2.83s\tremaining: 3m 19s\n",
      "14:\tlearn: 0.2062595\ttotal: 3.01s\tremaining: 3m 17s\n",
      "15:\tlearn: 0.1867672\ttotal: 3.19s\tremaining: 3m 16s\n",
      "16:\tlearn: 0.1705821\ttotal: 3.35s\tremaining: 3m 13s\n",
      "17:\tlearn: 0.1546674\ttotal: 3.55s\tremaining: 3m 13s\n",
      "18:\tlearn: 0.1410633\ttotal: 3.72s\tremaining: 3m 12s\n",
      "19:\tlearn: 0.1281810\ttotal: 3.91s\tremaining: 3m 11s\n",
      "20:\tlearn: 0.1172015\ttotal: 4.12s\tremaining: 3m 11s\n",
      "21:\tlearn: 0.1082960\ttotal: 4.3s\tremaining: 3m 11s\n",
      "22:\tlearn: 0.0990269\ttotal: 4.5s\tremaining: 3m 10s\n",
      "23:\tlearn: 0.0911908\ttotal: 4.68s\tremaining: 3m 10s\n",
      "24:\tlearn: 0.0838579\ttotal: 4.89s\tremaining: 3m 10s\n",
      "25:\tlearn: 0.0772373\ttotal: 5.08s\tremaining: 3m 10s\n",
      "26:\tlearn: 0.0718253\ttotal: 5.26s\tremaining: 3m 9s\n",
      "27:\tlearn: 0.0670150\ttotal: 5.46s\tremaining: 3m 9s\n",
      "28:\tlearn: 0.0621985\ttotal: 5.66s\tremaining: 3m 9s\n",
      "29:\tlearn: 0.0584094\ttotal: 5.85s\tremaining: 3m 9s\n",
      "30:\tlearn: 0.0552551\ttotal: 6.03s\tremaining: 3m 8s\n",
      "31:\tlearn: 0.0513061\ttotal: 6.2s\tremaining: 3m 7s\n",
      "32:\tlearn: 0.0486406\ttotal: 6.36s\tremaining: 3m 6s\n",
      "33:\tlearn: 0.0446727\ttotal: 6.56s\tremaining: 3m 6s\n",
      "34:\tlearn: 0.0414870\ttotal: 6.76s\tremaining: 3m 6s\n",
      "35:\tlearn: 0.0393024\ttotal: 6.96s\tremaining: 3m 6s\n",
      "36:\tlearn: 0.0376445\ttotal: 7.14s\tremaining: 3m 5s\n",
      "37:\tlearn: 0.0355828\ttotal: 7.34s\tremaining: 3m 5s\n",
      "38:\tlearn: 0.0341806\ttotal: 7.53s\tremaining: 3m 5s\n",
      "39:\tlearn: 0.0323529\ttotal: 7.73s\tremaining: 3m 5s\n",
      "40:\tlearn: 0.0310013\ttotal: 7.92s\tremaining: 3m 5s\n",
      "41:\tlearn: 0.0292601\ttotal: 8.13s\tremaining: 3m 5s\n",
      "42:\tlearn: 0.0277168\ttotal: 8.32s\tremaining: 3m 5s\n",
      "43:\tlearn: 0.0264841\ttotal: 8.51s\tremaining: 3m 4s\n",
      "44:\tlearn: 0.0255726\ttotal: 8.7s\tremaining: 3m 4s\n",
      "45:\tlearn: 0.0244042\ttotal: 8.91s\tremaining: 3m 4s\n",
      "46:\tlearn: 0.0232909\ttotal: 9.12s\tremaining: 3m 4s\n",
      "47:\tlearn: 0.0223708\ttotal: 9.33s\tremaining: 3m 5s\n",
      "48:\tlearn: 0.0216448\ttotal: 9.54s\tremaining: 3m 5s\n",
      "49:\tlearn: 0.0210527\ttotal: 9.73s\tremaining: 3m 4s\n",
      "50:\tlearn: 0.0204600\ttotal: 9.92s\tremaining: 3m 4s\n",
      "51:\tlearn: 0.0198866\ttotal: 10.1s\tremaining: 3m 4s\n",
      "52:\tlearn: 0.0193833\ttotal: 10.3s\tremaining: 3m 4s\n",
      "53:\tlearn: 0.0188888\ttotal: 10.5s\tremaining: 3m 4s\n",
      "54:\tlearn: 0.0184714\ttotal: 10.7s\tremaining: 3m 3s\n",
      "55:\tlearn: 0.0177786\ttotal: 10.9s\tremaining: 3m 3s\n",
      "56:\tlearn: 0.0171490\ttotal: 11.1s\tremaining: 3m 3s\n",
      "57:\tlearn: 0.0168666\ttotal: 11.3s\tremaining: 3m 2s\n",
      "58:\tlearn: 0.0163540\ttotal: 11.5s\tremaining: 3m 2s\n",
      "59:\tlearn: 0.0160095\ttotal: 11.7s\tremaining: 3m 2s\n",
      "60:\tlearn: 0.0154523\ttotal: 11.9s\tremaining: 3m 2s\n",
      "61:\tlearn: 0.0152476\ttotal: 12.1s\tremaining: 3m 2s\n",
      "62:\tlearn: 0.0149745\ttotal: 12.2s\tremaining: 3m 2s\n",
      "63:\tlearn: 0.0147188\ttotal: 12.4s\tremaining: 3m 1s\n",
      "64:\tlearn: 0.0145621\ttotal: 12.6s\tremaining: 3m 1s\n",
      "65:\tlearn: 0.0142535\ttotal: 12.8s\tremaining: 3m 1s\n",
      "66:\tlearn: 0.0140655\ttotal: 13s\tremaining: 3m 1s\n",
      "67:\tlearn: 0.0138643\ttotal: 13.2s\tremaining: 3m 1s\n",
      "68:\tlearn: 0.0136321\ttotal: 13.4s\tremaining: 3m\n",
      "69:\tlearn: 0.0133960\ttotal: 13.6s\tremaining: 3m\n",
      "70:\tlearn: 0.0131977\ttotal: 13.8s\tremaining: 3m\n",
      "71:\tlearn: 0.0129555\ttotal: 14s\tremaining: 2m 59s\n",
      "72:\tlearn: 0.0128314\ttotal: 14.1s\tremaining: 2m 59s\n",
      "73:\tlearn: 0.0127165\ttotal: 14.3s\tremaining: 2m 59s\n",
      "74:\tlearn: 0.0124504\ttotal: 14.6s\tremaining: 2m 59s\n",
      "75:\tlearn: 0.0123609\ttotal: 14.8s\tremaining: 2m 59s\n",
      "76:\tlearn: 0.0122798\ttotal: 15s\tremaining: 2m 59s\n",
      "77:\tlearn: 0.0121730\ttotal: 15.2s\tremaining: 2m 59s\n",
      "78:\tlearn: 0.0119801\ttotal: 15.3s\tremaining: 2m 58s\n",
      "79:\tlearn: 0.0118726\ttotal: 15.6s\tremaining: 2m 58s\n",
      "80:\tlearn: 0.0117508\ttotal: 15.8s\tremaining: 2m 58s\n",
      "81:\tlearn: 0.0116494\ttotal: 16s\tremaining: 2m 58s\n",
      "82:\tlearn: 0.0115338\ttotal: 16.2s\tremaining: 2m 58s\n",
      "83:\tlearn: 0.0114629\ttotal: 16.4s\tremaining: 2m 59s\n",
      "84:\tlearn: 0.0113740\ttotal: 16.7s\tremaining: 2m 59s\n",
      "85:\tlearn: 0.0112672\ttotal: 16.9s\tremaining: 2m 59s\n",
      "86:\tlearn: 0.0111781\ttotal: 17.1s\tremaining: 2m 59s\n",
      "87:\tlearn: 0.0110793\ttotal: 17.3s\tremaining: 2m 59s\n",
      "88:\tlearn: 0.0109471\ttotal: 17.6s\tremaining: 2m 59s\n",
      "89:\tlearn: 0.0108964\ttotal: 17.7s\tremaining: 2m 59s\n",
      "90:\tlearn: 0.0107886\ttotal: 18s\tremaining: 2m 59s\n",
      "91:\tlearn: 0.0107223\ttotal: 18.1s\tremaining: 2m 58s\n",
      "92:\tlearn: 0.0106481\ttotal: 18.3s\tremaining: 2m 58s\n",
      "93:\tlearn: 0.0105698\ttotal: 18.5s\tremaining: 2m 58s\n",
      "94:\tlearn: 0.0105224\ttotal: 18.7s\tremaining: 2m 58s\n",
      "95:\tlearn: 0.0104537\ttotal: 18.9s\tremaining: 2m 58s\n",
      "96:\tlearn: 0.0104120\ttotal: 19.1s\tremaining: 2m 58s\n",
      "97:\tlearn: 0.0103629\ttotal: 19.3s\tremaining: 2m 57s\n",
      "98:\tlearn: 0.0103018\ttotal: 19.5s\tremaining: 2m 57s\n",
      "99:\tlearn: 0.0102624\ttotal: 19.7s\tremaining: 2m 57s\n",
      "100:\tlearn: 0.0102249\ttotal: 19.9s\tremaining: 2m 57s\n",
      "101:\tlearn: 0.0101760\ttotal: 20.1s\tremaining: 2m 57s\n",
      "102:\tlearn: 0.0101404\ttotal: 20.3s\tremaining: 2m 57s\n",
      "103:\tlearn: 0.0100791\ttotal: 20.5s\tremaining: 2m 56s\n",
      "104:\tlearn: 0.0100456\ttotal: 20.7s\tremaining: 2m 56s\n",
      "105:\tlearn: 0.0100043\ttotal: 20.9s\tremaining: 2m 56s\n",
      "106:\tlearn: 0.0099582\ttotal: 21.1s\tremaining: 2m 56s\n",
      "107:\tlearn: 0.0099168\ttotal: 21.3s\tremaining: 2m 55s\n",
      "108:\tlearn: 0.0098815\ttotal: 21.5s\tremaining: 2m 55s\n",
      "109:\tlearn: 0.0098484\ttotal: 21.7s\tremaining: 2m 55s\n",
      "110:\tlearn: 0.0098186\ttotal: 21.8s\tremaining: 2m 54s\n",
      "111:\tlearn: 0.0097884\ttotal: 22s\tremaining: 2m 54s\n",
      "112:\tlearn: 0.0097781\ttotal: 22.2s\tremaining: 2m 54s\n",
      "113:\tlearn: 0.0097601\ttotal: 22.4s\tremaining: 2m 53s\n",
      "114:\tlearn: 0.0097454\ttotal: 22.5s\tremaining: 2m 53s\n",
      "115:\tlearn: 0.0097145\ttotal: 22.7s\tremaining: 2m 52s\n",
      "116:\tlearn: 0.0096835\ttotal: 22.9s\tremaining: 2m 52s\n",
      "117:\tlearn: 0.0096677\ttotal: 23s\tremaining: 2m 52s\n",
      "118:\tlearn: 0.0096453\ttotal: 23.2s\tremaining: 2m 51s\n",
      "119:\tlearn: 0.0096323\ttotal: 23.4s\tremaining: 2m 51s\n",
      "120:\tlearn: 0.0096001\ttotal: 23.5s\tremaining: 2m 50s\n",
      "121:\tlearn: 0.0095617\ttotal: 23.7s\tremaining: 2m 50s\n",
      "122:\tlearn: 0.0095415\ttotal: 23.9s\tremaining: 2m 50s\n",
      "123:\tlearn: 0.0095066\ttotal: 24.1s\tremaining: 2m 50s\n",
      "124:\tlearn: 0.0094787\ttotal: 24.3s\tremaining: 2m 49s\n",
      "125:\tlearn: 0.0094687\ttotal: 24.4s\tremaining: 2m 49s\n",
      "126:\tlearn: 0.0094588\ttotal: 24.6s\tremaining: 2m 49s\n",
      "127:\tlearn: 0.0094419\ttotal: 24.8s\tremaining: 2m 48s\n",
      "128:\tlearn: 0.0094210\ttotal: 24.9s\tremaining: 2m 48s\n",
      "129:\tlearn: 0.0094028\ttotal: 25.1s\tremaining: 2m 48s\n",
      "130:\tlearn: 0.0093763\ttotal: 25.3s\tremaining: 2m 47s\n",
      "131:\tlearn: 0.0093673\ttotal: 25.5s\tremaining: 2m 47s\n",
      "132:\tlearn: 0.0093404\ttotal: 25.7s\tremaining: 2m 47s\n",
      "133:\tlearn: 0.0093332\ttotal: 25.8s\tremaining: 2m 46s\n",
      "134:\tlearn: 0.0093260\ttotal: 26s\tremaining: 2m 46s\n",
      "135:\tlearn: 0.0093195\ttotal: 26.2s\tremaining: 2m 46s\n",
      "136:\tlearn: 0.0092943\ttotal: 26.4s\tremaining: 2m 46s\n",
      "137:\tlearn: 0.0092844\ttotal: 26.5s\tremaining: 2m 45s\n",
      "138:\tlearn: 0.0092696\ttotal: 26.7s\tremaining: 2m 45s\n",
      "139:\tlearn: 0.0092608\ttotal: 26.9s\tremaining: 2m 45s\n",
      "140:\tlearn: 0.0092555\ttotal: 27s\tremaining: 2m 44s\n",
      "141:\tlearn: 0.0092417\ttotal: 27.2s\tremaining: 2m 44s\n",
      "142:\tlearn: 0.0092219\ttotal: 27.4s\tremaining: 2m 44s\n",
      "143:\tlearn: 0.0092076\ttotal: 27.5s\tremaining: 2m 43s\n",
      "144:\tlearn: 0.0091898\ttotal: 27.7s\tremaining: 2m 43s\n",
      "145:\tlearn: 0.0091862\ttotal: 27.9s\tremaining: 2m 43s\n",
      "146:\tlearn: 0.0091678\ttotal: 28.1s\tremaining: 2m 42s\n",
      "147:\tlearn: 0.0091633\ttotal: 28.2s\tremaining: 2m 42s\n",
      "148:\tlearn: 0.0091502\ttotal: 28.4s\tremaining: 2m 42s\n",
      "149:\tlearn: 0.0091465\ttotal: 28.6s\tremaining: 2m 42s\n",
      "150:\tlearn: 0.0091360\ttotal: 28.8s\tremaining: 2m 41s\n",
      "151:\tlearn: 0.0091229\ttotal: 29s\tremaining: 2m 41s\n",
      "152:\tlearn: 0.0091186\ttotal: 29.1s\tremaining: 2m 41s\n",
      "153:\tlearn: 0.0091157\ttotal: 29.3s\tremaining: 2m 41s\n",
      "154:\tlearn: 0.0091065\ttotal: 29.5s\tremaining: 2m 40s\n",
      "155:\tlearn: 0.0090937\ttotal: 29.7s\tremaining: 2m 40s\n",
      "156:\tlearn: 0.0090914\ttotal: 29.8s\tremaining: 2m 40s\n",
      "157:\tlearn: 0.0090883\ttotal: 30s\tremaining: 2m 39s\n"
     ]
    },
    {
     "name": "stdout",
     "output_type": "stream",
     "text": [
      "158:\tlearn: 0.0090747\ttotal: 30.2s\tremaining: 2m 39s\n",
      "159:\tlearn: 0.0090719\ttotal: 30.3s\tremaining: 2m 39s\n",
      "160:\tlearn: 0.0090693\ttotal: 30.5s\tremaining: 2m 38s\n",
      "161:\tlearn: 0.0090668\ttotal: 30.7s\tremaining: 2m 38s\n",
      "162:\tlearn: 0.0090594\ttotal: 30.8s\tremaining: 2m 38s\n",
      "163:\tlearn: 0.0090578\ttotal: 31s\tremaining: 2m 38s\n",
      "164:\tlearn: 0.0090490\ttotal: 31.2s\tremaining: 2m 37s\n",
      "165:\tlearn: 0.0090358\ttotal: 31.4s\tremaining: 2m 37s\n",
      "166:\tlearn: 0.0090305\ttotal: 31.6s\tremaining: 2m 37s\n",
      "167:\tlearn: 0.0090179\ttotal: 31.8s\tremaining: 2m 37s\n",
      "168:\tlearn: 0.0090136\ttotal: 32s\tremaining: 2m 37s\n",
      "169:\tlearn: 0.0090115\ttotal: 32.2s\tremaining: 2m 37s\n",
      "170:\tlearn: 0.0089950\ttotal: 32.4s\tremaining: 2m 36s\n",
      "171:\tlearn: 0.0089933\ttotal: 32.6s\tremaining: 2m 36s\n",
      "172:\tlearn: 0.0089921\ttotal: 32.8s\tremaining: 2m 36s\n",
      "173:\tlearn: 0.0089814\ttotal: 32.9s\tremaining: 2m 36s\n",
      "174:\tlearn: 0.0089798\ttotal: 33.1s\tremaining: 2m 36s\n",
      "175:\tlearn: 0.0089755\ttotal: 33.3s\tremaining: 2m 35s\n",
      "176:\tlearn: 0.0089696\ttotal: 33.4s\tremaining: 2m 35s\n",
      "177:\tlearn: 0.0089662\ttotal: 33.6s\tremaining: 2m 35s\n",
      "178:\tlearn: 0.0089618\ttotal: 33.8s\tremaining: 2m 34s\n",
      "179:\tlearn: 0.0089572\ttotal: 33.9s\tremaining: 2m 34s\n",
      "180:\tlearn: 0.0089557\ttotal: 34.1s\tremaining: 2m 34s\n",
      "181:\tlearn: 0.0089545\ttotal: 34.3s\tremaining: 2m 34s\n",
      "182:\tlearn: 0.0089536\ttotal: 34.5s\tremaining: 2m 33s\n",
      "183:\tlearn: 0.0089510\ttotal: 34.7s\tremaining: 2m 33s\n",
      "184:\tlearn: 0.0089504\ttotal: 34.8s\tremaining: 2m 33s\n",
      "185:\tlearn: 0.0089392\ttotal: 35.1s\tremaining: 2m 33s\n",
      "186:\tlearn: 0.0089350\ttotal: 35.2s\tremaining: 2m 33s\n",
      "187:\tlearn: 0.0089300\ttotal: 35.4s\tremaining: 2m 32s\n",
      "188:\tlearn: 0.0089289\ttotal: 35.6s\tremaining: 2m 32s\n",
      "189:\tlearn: 0.0089268\ttotal: 35.7s\tremaining: 2m 32s\n",
      "190:\tlearn: 0.0089067\ttotal: 35.9s\tremaining: 2m 32s\n",
      "191:\tlearn: 0.0089005\ttotal: 36.1s\tremaining: 2m 31s\n",
      "192:\tlearn: 0.0088925\ttotal: 36.3s\tremaining: 2m 31s\n",
      "193:\tlearn: 0.0088873\ttotal: 36.4s\tremaining: 2m 31s\n",
      "194:\tlearn: 0.0088815\ttotal: 36.6s\tremaining: 2m 31s\n",
      "195:\tlearn: 0.0088748\ttotal: 36.8s\tremaining: 2m 30s\n",
      "196:\tlearn: 0.0088662\ttotal: 37s\tremaining: 2m 30s\n",
      "197:\tlearn: 0.0088615\ttotal: 37.1s\tremaining: 2m 30s\n",
      "198:\tlearn: 0.0088598\ttotal: 37.3s\tremaining: 2m 30s\n",
      "199:\tlearn: 0.0088576\ttotal: 37.5s\tremaining: 2m 29s\n",
      "200:\tlearn: 0.0088493\ttotal: 37.6s\tremaining: 2m 29s\n",
      "201:\tlearn: 0.0088402\ttotal: 37.8s\tremaining: 2m 29s\n",
      "202:\tlearn: 0.0088367\ttotal: 38s\tremaining: 2m 29s\n",
      "203:\tlearn: 0.0088360\ttotal: 38.2s\tremaining: 2m 28s\n",
      "204:\tlearn: 0.0088351\ttotal: 38.4s\tremaining: 2m 28s\n",
      "205:\tlearn: 0.0088315\ttotal: 38.5s\tremaining: 2m 28s\n",
      "206:\tlearn: 0.0088276\ttotal: 38.7s\tremaining: 2m 28s\n",
      "207:\tlearn: 0.0088233\ttotal: 38.9s\tremaining: 2m 28s\n",
      "208:\tlearn: 0.0088229\ttotal: 39.1s\tremaining: 2m 27s\n",
      "209:\tlearn: 0.0088217\ttotal: 39.3s\tremaining: 2m 27s\n",
      "210:\tlearn: 0.0088196\ttotal: 39.4s\tremaining: 2m 27s\n",
      "211:\tlearn: 0.0088192\ttotal: 39.6s\tremaining: 2m 27s\n",
      "212:\tlearn: 0.0088137\ttotal: 39.8s\tremaining: 2m 27s\n",
      "213:\tlearn: 0.0088131\ttotal: 40s\tremaining: 2m 26s\n",
      "214:\tlearn: 0.0088048\ttotal: 40.2s\tremaining: 2m 26s\n",
      "215:\tlearn: 0.0087986\ttotal: 40.4s\tremaining: 2m 26s\n",
      "216:\tlearn: 0.0087962\ttotal: 40.5s\tremaining: 2m 26s\n",
      "217:\tlearn: 0.0087954\ttotal: 40.7s\tremaining: 2m 25s\n",
      "218:\tlearn: 0.0087905\ttotal: 40.9s\tremaining: 2m 25s\n",
      "219:\tlearn: 0.0087827\ttotal: 41s\tremaining: 2m 25s\n",
      "220:\tlearn: 0.0087818\ttotal: 41.2s\tremaining: 2m 25s\n",
      "221:\tlearn: 0.0087684\ttotal: 41.4s\tremaining: 2m 25s\n",
      "222:\tlearn: 0.0087667\ttotal: 41.6s\tremaining: 2m 25s\n",
      "223:\tlearn: 0.0087623\ttotal: 41.8s\tremaining: 2m 24s\n",
      "224:\tlearn: 0.0087561\ttotal: 42s\tremaining: 2m 24s\n",
      "225:\tlearn: 0.0087555\ttotal: 42.2s\tremaining: 2m 24s\n",
      "226:\tlearn: 0.0087519\ttotal: 42.4s\tremaining: 2m 24s\n",
      "227:\tlearn: 0.0087502\ttotal: 42.5s\tremaining: 2m 24s\n",
      "228:\tlearn: 0.0087498\ttotal: 42.7s\tremaining: 2m 23s\n",
      "229:\tlearn: 0.0087369\ttotal: 42.9s\tremaining: 2m 23s\n",
      "230:\tlearn: 0.0087328\ttotal: 43s\tremaining: 2m 23s\n",
      "231:\tlearn: 0.0087319\ttotal: 43.2s\tremaining: 2m 23s\n",
      "232:\tlearn: 0.0087280\ttotal: 43.4s\tremaining: 2m 22s\n",
      "233:\tlearn: 0.0087277\ttotal: 43.5s\tremaining: 2m 22s\n",
      "234:\tlearn: 0.0087227\ttotal: 43.7s\tremaining: 2m 22s\n",
      "235:\tlearn: 0.0087188\ttotal: 43.9s\tremaining: 2m 22s\n",
      "236:\tlearn: 0.0087178\ttotal: 44.1s\tremaining: 2m 21s\n",
      "237:\tlearn: 0.0087166\ttotal: 44.3s\tremaining: 2m 21s\n",
      "238:\tlearn: 0.0087141\ttotal: 44.4s\tremaining: 2m 21s\n",
      "239:\tlearn: 0.0087108\ttotal: 44.6s\tremaining: 2m 21s\n",
      "240:\tlearn: 0.0087098\ttotal: 44.8s\tremaining: 2m 21s\n",
      "241:\tlearn: 0.0087083\ttotal: 45s\tremaining: 2m 20s\n",
      "242:\tlearn: 0.0087046\ttotal: 45.1s\tremaining: 2m 20s\n",
      "243:\tlearn: 0.0087034\ttotal: 45.3s\tremaining: 2m 20s\n",
      "244:\tlearn: 0.0087014\ttotal: 45.5s\tremaining: 2m 20s\n",
      "245:\tlearn: 0.0086966\ttotal: 45.7s\tremaining: 2m 19s\n",
      "246:\tlearn: 0.0086964\ttotal: 45.8s\tremaining: 2m 19s\n",
      "247:\tlearn: 0.0086951\ttotal: 46s\tremaining: 2m 19s\n",
      "248:\tlearn: 0.0086902\ttotal: 46.2s\tremaining: 2m 19s\n",
      "249:\tlearn: 0.0086876\ttotal: 46.4s\tremaining: 2m 19s\n",
      "250:\tlearn: 0.0086837\ttotal: 46.6s\tremaining: 2m 19s\n",
      "251:\tlearn: 0.0086800\ttotal: 46.8s\tremaining: 2m 19s\n",
      "252:\tlearn: 0.0086767\ttotal: 47s\tremaining: 2m 18s\n",
      "253:\tlearn: 0.0086752\ttotal: 47.2s\tremaining: 2m 18s\n",
      "254:\tlearn: 0.0086733\ttotal: 47.4s\tremaining: 2m 18s\n",
      "255:\tlearn: 0.0086687\ttotal: 47.6s\tremaining: 2m 18s\n",
      "256:\tlearn: 0.0086676\ttotal: 47.8s\tremaining: 2m 18s\n",
      "257:\tlearn: 0.0086565\ttotal: 48s\tremaining: 2m 17s\n",
      "258:\tlearn: 0.0086542\ttotal: 48.2s\tremaining: 2m 17s\n",
      "259:\tlearn: 0.0086512\ttotal: 48.3s\tremaining: 2m 17s\n",
      "260:\tlearn: 0.0086509\ttotal: 48.5s\tremaining: 2m 17s\n",
      "261:\tlearn: 0.0086481\ttotal: 48.7s\tremaining: 2m 17s\n",
      "262:\tlearn: 0.0086455\ttotal: 48.8s\tremaining: 2m 16s\n",
      "263:\tlearn: 0.0086413\ttotal: 49s\tremaining: 2m 16s\n",
      "264:\tlearn: 0.0086406\ttotal: 49.2s\tremaining: 2m 16s\n",
      "265:\tlearn: 0.0086396\ttotal: 49.4s\tremaining: 2m 16s\n",
      "266:\tlearn: 0.0086390\ttotal: 49.6s\tremaining: 2m 16s\n",
      "267:\tlearn: 0.0086283\ttotal: 49.7s\tremaining: 2m 15s\n",
      "268:\tlearn: 0.0086228\ttotal: 49.9s\tremaining: 2m 15s\n",
      "269:\tlearn: 0.0086187\ttotal: 50.1s\tremaining: 2m 15s\n",
      "270:\tlearn: 0.0086181\ttotal: 50.3s\tremaining: 2m 15s\n",
      "271:\tlearn: 0.0086176\ttotal: 50.4s\tremaining: 2m 15s\n",
      "272:\tlearn: 0.0086159\ttotal: 50.6s\tremaining: 2m 14s\n",
      "273:\tlearn: 0.0086126\ttotal: 50.8s\tremaining: 2m 14s\n",
      "274:\tlearn: 0.0086091\ttotal: 51s\tremaining: 2m 14s\n",
      "275:\tlearn: 0.0086073\ttotal: 51.2s\tremaining: 2m 14s\n",
      "276:\tlearn: 0.0086069\ttotal: 51.4s\tremaining: 2m 14s\n",
      "277:\tlearn: 0.0086062\ttotal: 51.6s\tremaining: 2m 13s\n",
      "278:\tlearn: 0.0086043\ttotal: 51.7s\tremaining: 2m 13s\n",
      "279:\tlearn: 0.0086029\ttotal: 51.9s\tremaining: 2m 13s\n",
      "280:\tlearn: 0.0085945\ttotal: 52.1s\tremaining: 2m 13s\n",
      "281:\tlearn: 0.0085924\ttotal: 52.3s\tremaining: 2m 13s\n",
      "282:\tlearn: 0.0085908\ttotal: 52.5s\tremaining: 2m 12s\n",
      "283:\tlearn: 0.0085903\ttotal: 52.6s\tremaining: 2m 12s\n",
      "284:\tlearn: 0.0085888\ttotal: 52.8s\tremaining: 2m 12s\n",
      "285:\tlearn: 0.0085871\ttotal: 53s\tremaining: 2m 12s\n",
      "286:\tlearn: 0.0085866\ttotal: 53.2s\tremaining: 2m 12s\n",
      "287:\tlearn: 0.0085850\ttotal: 53.4s\tremaining: 2m 11s\n",
      "288:\tlearn: 0.0085842\ttotal: 53.5s\tremaining: 2m 11s\n",
      "289:\tlearn: 0.0085829\ttotal: 53.7s\tremaining: 2m 11s\n",
      "290:\tlearn: 0.0085818\ttotal: 53.9s\tremaining: 2m 11s\n",
      "291:\tlearn: 0.0085787\ttotal: 54.1s\tremaining: 2m 11s\n",
      "292:\tlearn: 0.0085777\ttotal: 54.3s\tremaining: 2m 11s\n",
      "293:\tlearn: 0.0085763\ttotal: 54.5s\tremaining: 2m 10s\n",
      "294:\tlearn: 0.0085759\ttotal: 54.7s\tremaining: 2m 10s\n",
      "295:\tlearn: 0.0085739\ttotal: 54.8s\tremaining: 2m 10s\n",
      "296:\tlearn: 0.0085697\ttotal: 55s\tremaining: 2m 10s\n",
      "297:\tlearn: 0.0085694\ttotal: 55.2s\tremaining: 2m 9s\n",
      "298:\tlearn: 0.0085692\ttotal: 55.3s\tremaining: 2m 9s\n",
      "299:\tlearn: 0.0085677\ttotal: 55.5s\tremaining: 2m 9s\n",
      "300:\tlearn: 0.0085666\ttotal: 55.7s\tremaining: 2m 9s\n",
      "301:\tlearn: 0.0085664\ttotal: 55.8s\tremaining: 2m 9s\n",
      "302:\tlearn: 0.0085661\ttotal: 56s\tremaining: 2m 8s\n",
      "303:\tlearn: 0.0085658\ttotal: 56.2s\tremaining: 2m 8s\n",
      "304:\tlearn: 0.0085640\ttotal: 56.4s\tremaining: 2m 8s\n",
      "305:\tlearn: 0.0085627\ttotal: 56.5s\tremaining: 2m 8s\n",
      "306:\tlearn: 0.0085615\ttotal: 56.7s\tremaining: 2m 8s\n",
      "307:\tlearn: 0.0085602\ttotal: 56.9s\tremaining: 2m 7s\n",
      "308:\tlearn: 0.0085593\ttotal: 57.1s\tremaining: 2m 7s\n",
      "309:\tlearn: 0.0085590\ttotal: 57.2s\tremaining: 2m 7s\n",
      "310:\tlearn: 0.0085586\ttotal: 57.4s\tremaining: 2m 7s\n",
      "311:\tlearn: 0.0085579\ttotal: 57.6s\tremaining: 2m 7s\n",
      "312:\tlearn: 0.0085554\ttotal: 57.8s\tremaining: 2m 6s\n",
      "313:\tlearn: 0.0085535\ttotal: 58s\tremaining: 2m 6s\n"
     ]
    },
    {
     "name": "stdout",
     "output_type": "stream",
     "text": [
      "314:\tlearn: 0.0085522\ttotal: 58.2s\tremaining: 2m 6s\n",
      "315:\tlearn: 0.0085498\ttotal: 58.4s\tremaining: 2m 6s\n",
      "316:\tlearn: 0.0085486\ttotal: 58.5s\tremaining: 2m 6s\n",
      "317:\tlearn: 0.0085485\ttotal: 58.7s\tremaining: 2m 5s\n",
      "318:\tlearn: 0.0085482\ttotal: 58.9s\tremaining: 2m 5s\n",
      "319:\tlearn: 0.0085460\ttotal: 59.1s\tremaining: 2m 5s\n",
      "320:\tlearn: 0.0085452\ttotal: 59.2s\tremaining: 2m 5s\n",
      "321:\tlearn: 0.0085443\ttotal: 59.4s\tremaining: 2m 5s\n",
      "322:\tlearn: 0.0085430\ttotal: 59.6s\tremaining: 2m 4s\n",
      "323:\tlearn: 0.0085427\ttotal: 59.8s\tremaining: 2m 4s\n",
      "324:\tlearn: 0.0085403\ttotal: 60s\tremaining: 2m 4s\n",
      "325:\tlearn: 0.0085400\ttotal: 1m\tremaining: 2m 4s\n",
      "326:\tlearn: 0.0085398\ttotal: 1m\tremaining: 2m 4s\n",
      "327:\tlearn: 0.0085396\ttotal: 1m\tremaining: 2m 4s\n",
      "328:\tlearn: 0.0085377\ttotal: 1m\tremaining: 2m 3s\n",
      "329:\tlearn: 0.0085370\ttotal: 1m\tremaining: 2m 3s\n",
      "330:\tlearn: 0.0085358\ttotal: 1m 1s\tremaining: 2m 3s\n",
      "331:\tlearn: 0.0085355\ttotal: 1m 1s\tremaining: 2m 3s\n",
      "332:\tlearn: 0.0085346\ttotal: 1m 1s\tremaining: 2m 3s\n",
      "333:\tlearn: 0.0085335\ttotal: 1m 1s\tremaining: 2m 2s\n",
      "334:\tlearn: 0.0085326\ttotal: 1m 1s\tremaining: 2m 2s\n",
      "335:\tlearn: 0.0085259\ttotal: 1m 1s\tremaining: 2m 2s\n",
      "336:\tlearn: 0.0085257\ttotal: 1m 2s\tremaining: 2m 2s\n",
      "337:\tlearn: 0.0085250\ttotal: 1m 2s\tremaining: 2m 1s\n",
      "338:\tlearn: 0.0085239\ttotal: 1m 2s\tremaining: 2m 1s\n",
      "339:\tlearn: 0.0085238\ttotal: 1m 2s\tremaining: 2m 1s\n",
      "340:\tlearn: 0.0085218\ttotal: 1m 2s\tremaining: 2m 1s\n",
      "341:\tlearn: 0.0085216\ttotal: 1m 2s\tremaining: 2m 1s\n",
      "342:\tlearn: 0.0085215\ttotal: 1m 3s\tremaining: 2m 1s\n",
      "343:\tlearn: 0.0085198\ttotal: 1m 3s\tremaining: 2m\n",
      "344:\tlearn: 0.0085185\ttotal: 1m 3s\tremaining: 2m\n",
      "345:\tlearn: 0.0085179\ttotal: 1m 3s\tremaining: 2m\n",
      "346:\tlearn: 0.0085177\ttotal: 1m 3s\tremaining: 2m\n",
      "347:\tlearn: 0.0085172\ttotal: 1m 4s\tremaining: 2m\n",
      "348:\tlearn: 0.0085169\ttotal: 1m 4s\tremaining: 2m\n",
      "349:\tlearn: 0.0085168\ttotal: 1m 4s\tremaining: 1m 59s\n",
      "350:\tlearn: 0.0085166\ttotal: 1m 4s\tremaining: 1m 59s\n",
      "351:\tlearn: 0.0085163\ttotal: 1m 4s\tremaining: 1m 59s\n",
      "352:\tlearn: 0.0085151\ttotal: 1m 5s\tremaining: 1m 59s\n",
      "353:\tlearn: 0.0085144\ttotal: 1m 5s\tremaining: 1m 59s\n",
      "354:\tlearn: 0.0085130\ttotal: 1m 5s\tremaining: 1m 58s\n",
      "355:\tlearn: 0.0085074\ttotal: 1m 5s\tremaining: 1m 58s\n",
      "356:\tlearn: 0.0085072\ttotal: 1m 5s\tremaining: 1m 58s\n",
      "357:\tlearn: 0.0085066\ttotal: 1m 5s\tremaining: 1m 58s\n",
      "358:\tlearn: 0.0085041\ttotal: 1m 6s\tremaining: 1m 58s\n",
      "359:\tlearn: 0.0085027\ttotal: 1m 6s\tremaining: 1m 57s\n",
      "360:\tlearn: 0.0085026\ttotal: 1m 6s\tremaining: 1m 57s\n",
      "361:\tlearn: 0.0085019\ttotal: 1m 6s\tremaining: 1m 57s\n",
      "362:\tlearn: 0.0085018\ttotal: 1m 6s\tremaining: 1m 57s\n",
      "363:\tlearn: 0.0085008\ttotal: 1m 7s\tremaining: 1m 57s\n",
      "364:\tlearn: 0.0085002\ttotal: 1m 7s\tremaining: 1m 56s\n",
      "365:\tlearn: 0.0084983\ttotal: 1m 7s\tremaining: 1m 56s\n",
      "366:\tlearn: 0.0084969\ttotal: 1m 7s\tremaining: 1m 56s\n",
      "367:\tlearn: 0.0084961\ttotal: 1m 7s\tremaining: 1m 56s\n",
      "368:\tlearn: 0.0084956\ttotal: 1m 7s\tremaining: 1m 56s\n",
      "369:\tlearn: 0.0084947\ttotal: 1m 8s\tremaining: 1m 56s\n",
      "370:\tlearn: 0.0084945\ttotal: 1m 8s\tremaining: 1m 55s\n",
      "371:\tlearn: 0.0084939\ttotal: 1m 8s\tremaining: 1m 55s\n",
      "372:\tlearn: 0.0084919\ttotal: 1m 8s\tremaining: 1m 55s\n",
      "373:\tlearn: 0.0084918\ttotal: 1m 8s\tremaining: 1m 55s\n",
      "374:\tlearn: 0.0084907\ttotal: 1m 9s\tremaining: 1m 55s\n",
      "375:\tlearn: 0.0084887\ttotal: 1m 9s\tremaining: 1m 55s\n",
      "376:\tlearn: 0.0084874\ttotal: 1m 9s\tremaining: 1m 54s\n",
      "377:\tlearn: 0.0084867\ttotal: 1m 9s\tremaining: 1m 54s\n",
      "378:\tlearn: 0.0084817\ttotal: 1m 9s\tremaining: 1m 54s\n",
      "379:\tlearn: 0.0084815\ttotal: 1m 10s\tremaining: 1m 54s\n",
      "380:\tlearn: 0.0084814\ttotal: 1m 10s\tremaining: 1m 54s\n",
      "381:\tlearn: 0.0084806\ttotal: 1m 10s\tremaining: 1m 53s\n",
      "382:\tlearn: 0.0084797\ttotal: 1m 10s\tremaining: 1m 53s\n",
      "383:\tlearn: 0.0084752\ttotal: 1m 10s\tremaining: 1m 53s\n",
      "384:\tlearn: 0.0084751\ttotal: 1m 11s\tremaining: 1m 53s\n",
      "385:\tlearn: 0.0084732\ttotal: 1m 11s\tremaining: 1m 53s\n",
      "386:\tlearn: 0.0084729\ttotal: 1m 11s\tremaining: 1m 53s\n",
      "387:\tlearn: 0.0084729\ttotal: 1m 11s\tremaining: 1m 53s\n",
      "388:\tlearn: 0.0084723\ttotal: 1m 11s\tremaining: 1m 52s\n",
      "389:\tlearn: 0.0084719\ttotal: 1m 12s\tremaining: 1m 52s\n",
      "390:\tlearn: 0.0084713\ttotal: 1m 12s\tremaining: 1m 52s\n",
      "391:\tlearn: 0.0084708\ttotal: 1m 12s\tremaining: 1m 52s\n",
      "392:\tlearn: 0.0084707\ttotal: 1m 12s\tremaining: 1m 52s\n",
      "393:\tlearn: 0.0084695\ttotal: 1m 12s\tremaining: 1m 52s\n",
      "394:\tlearn: 0.0084683\ttotal: 1m 13s\tremaining: 1m 51s\n",
      "395:\tlearn: 0.0084678\ttotal: 1m 13s\tremaining: 1m 51s\n",
      "396:\tlearn: 0.0084676\ttotal: 1m 13s\tremaining: 1m 51s\n",
      "397:\tlearn: 0.0084676\ttotal: 1m 13s\tremaining: 1m 51s\n",
      "398:\tlearn: 0.0084668\ttotal: 1m 13s\tremaining: 1m 51s\n",
      "399:\tlearn: 0.0084662\ttotal: 1m 13s\tremaining: 1m 50s\n",
      "400:\tlearn: 0.0084661\ttotal: 1m 14s\tremaining: 1m 50s\n",
      "401:\tlearn: 0.0084657\ttotal: 1m 14s\tremaining: 1m 50s\n",
      "402:\tlearn: 0.0084645\ttotal: 1m 14s\tremaining: 1m 50s\n",
      "403:\tlearn: 0.0084642\ttotal: 1m 14s\tremaining: 1m 50s\n",
      "404:\tlearn: 0.0084634\ttotal: 1m 14s\tremaining: 1m 50s\n",
      "405:\tlearn: 0.0084634\ttotal: 1m 15s\tremaining: 1m 49s\n",
      "406:\tlearn: 0.0084626\ttotal: 1m 15s\tremaining: 1m 49s\n",
      "407:\tlearn: 0.0084622\ttotal: 1m 15s\tremaining: 1m 49s\n",
      "408:\tlearn: 0.0084617\ttotal: 1m 15s\tremaining: 1m 49s\n",
      "409:\tlearn: 0.0084604\ttotal: 1m 15s\tremaining: 1m 49s\n",
      "410:\tlearn: 0.0084567\ttotal: 1m 16s\tremaining: 1m 48s\n",
      "411:\tlearn: 0.0084550\ttotal: 1m 16s\tremaining: 1m 48s\n",
      "412:\tlearn: 0.0084541\ttotal: 1m 16s\tremaining: 1m 48s\n",
      "413:\tlearn: 0.0084535\ttotal: 1m 16s\tremaining: 1m 48s\n",
      "414:\tlearn: 0.0084534\ttotal: 1m 16s\tremaining: 1m 48s\n",
      "415:\tlearn: 0.0084533\ttotal: 1m 16s\tremaining: 1m 48s\n",
      "416:\tlearn: 0.0084529\ttotal: 1m 17s\tremaining: 1m 47s\n",
      "417:\tlearn: 0.0084522\ttotal: 1m 17s\tremaining: 1m 47s\n",
      "418:\tlearn: 0.0084515\ttotal: 1m 17s\tremaining: 1m 47s\n",
      "419:\tlearn: 0.0084505\ttotal: 1m 17s\tremaining: 1m 47s\n",
      "420:\tlearn: 0.0084501\ttotal: 1m 17s\tremaining: 1m 47s\n",
      "421:\tlearn: 0.0084501\ttotal: 1m 18s\tremaining: 1m 46s\n",
      "422:\tlearn: 0.0084499\ttotal: 1m 18s\tremaining: 1m 46s\n",
      "423:\tlearn: 0.0084498\ttotal: 1m 18s\tremaining: 1m 46s\n",
      "424:\tlearn: 0.0084489\ttotal: 1m 18s\tremaining: 1m 46s\n",
      "425:\tlearn: 0.0084485\ttotal: 1m 18s\tremaining: 1m 46s\n",
      "426:\tlearn: 0.0084477\ttotal: 1m 18s\tremaining: 1m 45s\n",
      "427:\tlearn: 0.0084471\ttotal: 1m 19s\tremaining: 1m 45s\n",
      "428:\tlearn: 0.0084468\ttotal: 1m 19s\tremaining: 1m 45s\n",
      "429:\tlearn: 0.0084464\ttotal: 1m 19s\tremaining: 1m 45s\n",
      "430:\tlearn: 0.0084459\ttotal: 1m 19s\tremaining: 1m 45s\n",
      "431:\tlearn: 0.0084447\ttotal: 1m 19s\tremaining: 1m 45s\n",
      "432:\tlearn: 0.0084445\ttotal: 1m 20s\tremaining: 1m 44s\n",
      "433:\tlearn: 0.0084444\ttotal: 1m 20s\tremaining: 1m 44s\n",
      "434:\tlearn: 0.0084442\ttotal: 1m 20s\tremaining: 1m 44s\n",
      "435:\tlearn: 0.0084438\ttotal: 1m 20s\tremaining: 1m 44s\n",
      "436:\tlearn: 0.0084425\ttotal: 1m 20s\tremaining: 1m 44s\n",
      "437:\tlearn: 0.0084420\ttotal: 1m 21s\tremaining: 1m 44s\n",
      "438:\tlearn: 0.0084419\ttotal: 1m 21s\tremaining: 1m 43s\n",
      "439:\tlearn: 0.0084419\ttotal: 1m 21s\tremaining: 1m 43s\n",
      "440:\tlearn: 0.0084418\ttotal: 1m 21s\tremaining: 1m 43s\n",
      "441:\tlearn: 0.0084415\ttotal: 1m 21s\tremaining: 1m 43s\n",
      "442:\tlearn: 0.0084414\ttotal: 1m 21s\tremaining: 1m 43s\n",
      "443:\tlearn: 0.0084408\ttotal: 1m 22s\tremaining: 1m 42s\n",
      "444:\tlearn: 0.0084403\ttotal: 1m 22s\tremaining: 1m 42s\n",
      "445:\tlearn: 0.0084398\ttotal: 1m 22s\tremaining: 1m 42s\n",
      "446:\tlearn: 0.0084394\ttotal: 1m 22s\tremaining: 1m 42s\n",
      "447:\tlearn: 0.0084390\ttotal: 1m 22s\tremaining: 1m 42s\n",
      "448:\tlearn: 0.0084384\ttotal: 1m 23s\tremaining: 1m 41s\n",
      "449:\tlearn: 0.0084379\ttotal: 1m 23s\tremaining: 1m 41s\n",
      "450:\tlearn: 0.0084376\ttotal: 1m 23s\tremaining: 1m 41s\n",
      "451:\tlearn: 0.0084375\ttotal: 1m 23s\tremaining: 1m 41s\n",
      "452:\tlearn: 0.0084375\ttotal: 1m 23s\tremaining: 1m 41s\n",
      "453:\tlearn: 0.0084374\ttotal: 1m 24s\tremaining: 1m 41s\n",
      "454:\tlearn: 0.0084373\ttotal: 1m 24s\tremaining: 1m 40s\n",
      "455:\tlearn: 0.0084370\ttotal: 1m 24s\tremaining: 1m 40s\n",
      "456:\tlearn: 0.0084366\ttotal: 1m 24s\tremaining: 1m 40s\n",
      "457:\tlearn: 0.0084365\ttotal: 1m 24s\tremaining: 1m 40s\n",
      "458:\tlearn: 0.0084361\ttotal: 1m 24s\tremaining: 1m 40s\n",
      "459:\tlearn: 0.0084352\ttotal: 1m 25s\tremaining: 1m 39s\n",
      "460:\tlearn: 0.0084337\ttotal: 1m 25s\tremaining: 1m 39s\n",
      "461:\tlearn: 0.0084333\ttotal: 1m 25s\tremaining: 1m 39s\n",
      "462:\tlearn: 0.0084330\ttotal: 1m 25s\tremaining: 1m 39s\n",
      "463:\tlearn: 0.0084322\ttotal: 1m 25s\tremaining: 1m 39s\n",
      "464:\tlearn: 0.0084317\ttotal: 1m 25s\tremaining: 1m 38s\n",
      "465:\tlearn: 0.0084308\ttotal: 1m 26s\tremaining: 1m 38s\n",
      "466:\tlearn: 0.0084305\ttotal: 1m 26s\tremaining: 1m 38s\n",
      "467:\tlearn: 0.0084298\ttotal: 1m 26s\tremaining: 1m 38s\n",
      "468:\tlearn: 0.0084295\ttotal: 1m 26s\tremaining: 1m 38s\n"
     ]
    },
    {
     "name": "stdout",
     "output_type": "stream",
     "text": [
      "469:\tlearn: 0.0084291\ttotal: 1m 26s\tremaining: 1m 37s\n",
      "470:\tlearn: 0.0084287\ttotal: 1m 26s\tremaining: 1m 37s\n",
      "471:\tlearn: 0.0084275\ttotal: 1m 27s\tremaining: 1m 37s\n",
      "472:\tlearn: 0.0084275\ttotal: 1m 27s\tremaining: 1m 37s\n",
      "473:\tlearn: 0.0084271\ttotal: 1m 27s\tremaining: 1m 37s\n",
      "474:\tlearn: 0.0084268\ttotal: 1m 27s\tremaining: 1m 36s\n",
      "475:\tlearn: 0.0084265\ttotal: 1m 27s\tremaining: 1m 36s\n",
      "476:\tlearn: 0.0084264\ttotal: 1m 28s\tremaining: 1m 36s\n",
      "477:\tlearn: 0.0084260\ttotal: 1m 28s\tremaining: 1m 36s\n",
      "478:\tlearn: 0.0084258\ttotal: 1m 28s\tremaining: 1m 36s\n",
      "479:\tlearn: 0.0084249\ttotal: 1m 28s\tremaining: 1m 35s\n",
      "480:\tlearn: 0.0084245\ttotal: 1m 28s\tremaining: 1m 35s\n",
      "481:\tlearn: 0.0084244\ttotal: 1m 28s\tremaining: 1m 35s\n",
      "482:\tlearn: 0.0084212\ttotal: 1m 29s\tremaining: 1m 35s\n",
      "483:\tlearn: 0.0084209\ttotal: 1m 29s\tremaining: 1m 35s\n",
      "484:\tlearn: 0.0084207\ttotal: 1m 29s\tremaining: 1m 35s\n",
      "485:\tlearn: 0.0084205\ttotal: 1m 29s\tremaining: 1m 34s\n",
      "486:\tlearn: 0.0084204\ttotal: 1m 29s\tremaining: 1m 34s\n",
      "487:\tlearn: 0.0084198\ttotal: 1m 30s\tremaining: 1m 34s\n",
      "488:\tlearn: 0.0084192\ttotal: 1m 30s\tremaining: 1m 34s\n",
      "489:\tlearn: 0.0084183\ttotal: 1m 30s\tremaining: 1m 34s\n",
      "490:\tlearn: 0.0084179\ttotal: 1m 30s\tremaining: 1m 33s\n",
      "491:\tlearn: 0.0084177\ttotal: 1m 30s\tremaining: 1m 33s\n",
      "492:\tlearn: 0.0084177\ttotal: 1m 30s\tremaining: 1m 33s\n",
      "493:\tlearn: 0.0084173\ttotal: 1m 31s\tremaining: 1m 33s\n",
      "494:\tlearn: 0.0084173\ttotal: 1m 31s\tremaining: 1m 33s\n",
      "495:\tlearn: 0.0084169\ttotal: 1m 31s\tremaining: 1m 32s\n",
      "496:\tlearn: 0.0084163\ttotal: 1m 31s\tremaining: 1m 32s\n",
      "497:\tlearn: 0.0084152\ttotal: 1m 31s\tremaining: 1m 32s\n",
      "498:\tlearn: 0.0084147\ttotal: 1m 32s\tremaining: 1m 32s\n",
      "499:\tlearn: 0.0084145\ttotal: 1m 32s\tremaining: 1m 32s\n",
      "500:\tlearn: 0.0084142\ttotal: 1m 32s\tremaining: 1m 32s\n",
      "501:\tlearn: 0.0084140\ttotal: 1m 32s\tremaining: 1m 31s\n",
      "502:\tlearn: 0.0084138\ttotal: 1m 32s\tremaining: 1m 31s\n",
      "503:\tlearn: 0.0084136\ttotal: 1m 33s\tremaining: 1m 31s\n",
      "504:\tlearn: 0.0084133\ttotal: 1m 33s\tremaining: 1m 31s\n",
      "505:\tlearn: 0.0084132\ttotal: 1m 33s\tremaining: 1m 31s\n",
      "506:\tlearn: 0.0084129\ttotal: 1m 33s\tremaining: 1m 31s\n",
      "507:\tlearn: 0.0084123\ttotal: 1m 33s\tremaining: 1m 30s\n",
      "508:\tlearn: 0.0084120\ttotal: 1m 34s\tremaining: 1m 30s\n",
      "509:\tlearn: 0.0084111\ttotal: 1m 34s\tremaining: 1m 30s\n",
      "510:\tlearn: 0.0084108\ttotal: 1m 34s\tremaining: 1m 30s\n",
      "511:\tlearn: 0.0084106\ttotal: 1m 34s\tremaining: 1m 30s\n",
      "512:\tlearn: 0.0084105\ttotal: 1m 34s\tremaining: 1m 29s\n",
      "513:\tlearn: 0.0084104\ttotal: 1m 35s\tremaining: 1m 29s\n",
      "514:\tlearn: 0.0084102\ttotal: 1m 35s\tremaining: 1m 29s\n",
      "515:\tlearn: 0.0084099\ttotal: 1m 35s\tremaining: 1m 29s\n",
      "516:\tlearn: 0.0084099\ttotal: 1m 35s\tremaining: 1m 29s\n",
      "517:\tlearn: 0.0084098\ttotal: 1m 35s\tremaining: 1m 29s\n",
      "518:\tlearn: 0.0084096\ttotal: 1m 36s\tremaining: 1m 28s\n",
      "519:\tlearn: 0.0084091\ttotal: 1m 36s\tremaining: 1m 28s\n",
      "520:\tlearn: 0.0084090\ttotal: 1m 36s\tremaining: 1m 28s\n",
      "521:\tlearn: 0.0084087\ttotal: 1m 36s\tremaining: 1m 28s\n",
      "522:\tlearn: 0.0084084\ttotal: 1m 36s\tremaining: 1m 28s\n",
      "523:\tlearn: 0.0084082\ttotal: 1m 36s\tremaining: 1m 28s\n",
      "524:\tlearn: 0.0084082\ttotal: 1m 37s\tremaining: 1m 27s\n",
      "525:\tlearn: 0.0084079\ttotal: 1m 37s\tremaining: 1m 27s\n",
      "526:\tlearn: 0.0084077\ttotal: 1m 37s\tremaining: 1m 27s\n",
      "527:\tlearn: 0.0084074\ttotal: 1m 37s\tremaining: 1m 27s\n",
      "528:\tlearn: 0.0084071\ttotal: 1m 37s\tremaining: 1m 27s\n",
      "529:\tlearn: 0.0084067\ttotal: 1m 38s\tremaining: 1m 27s\n",
      "530:\tlearn: 0.0084065\ttotal: 1m 38s\tremaining: 1m 26s\n",
      "531:\tlearn: 0.0084065\ttotal: 1m 38s\tremaining: 1m 26s\n",
      "532:\tlearn: 0.0084065\ttotal: 1m 38s\tremaining: 1m 26s\n",
      "533:\tlearn: 0.0084064\ttotal: 1m 38s\tremaining: 1m 26s\n",
      "534:\tlearn: 0.0084064\ttotal: 1m 39s\tremaining: 1m 26s\n",
      "535:\tlearn: 0.0084061\ttotal: 1m 39s\tremaining: 1m 25s\n",
      "536:\tlearn: 0.0084059\ttotal: 1m 39s\tremaining: 1m 25s\n",
      "537:\tlearn: 0.0084055\ttotal: 1m 39s\tremaining: 1m 25s\n",
      "538:\tlearn: 0.0084055\ttotal: 1m 39s\tremaining: 1m 25s\n",
      "539:\tlearn: 0.0084049\ttotal: 1m 39s\tremaining: 1m 25s\n",
      "540:\tlearn: 0.0084046\ttotal: 1m 40s\tremaining: 1m 24s\n",
      "541:\tlearn: 0.0084040\ttotal: 1m 40s\tremaining: 1m 24s\n",
      "542:\tlearn: 0.0084031\ttotal: 1m 40s\tremaining: 1m 24s\n",
      "543:\tlearn: 0.0084029\ttotal: 1m 40s\tremaining: 1m 24s\n",
      "544:\tlearn: 0.0084026\ttotal: 1m 40s\tremaining: 1m 24s\n",
      "545:\tlearn: 0.0084025\ttotal: 1m 41s\tremaining: 1m 24s\n",
      "546:\tlearn: 0.0084023\ttotal: 1m 41s\tremaining: 1m 23s\n",
      "547:\tlearn: 0.0084022\ttotal: 1m 41s\tremaining: 1m 23s\n",
      "548:\tlearn: 0.0084017\ttotal: 1m 41s\tremaining: 1m 23s\n",
      "549:\tlearn: 0.0084017\ttotal: 1m 41s\tremaining: 1m 23s\n",
      "550:\tlearn: 0.0084014\ttotal: 1m 42s\tremaining: 1m 23s\n",
      "551:\tlearn: 0.0084014\ttotal: 1m 42s\tremaining: 1m 22s\n",
      "552:\tlearn: 0.0084002\ttotal: 1m 42s\tremaining: 1m 22s\n",
      "553:\tlearn: 0.0084001\ttotal: 1m 42s\tremaining: 1m 22s\n",
      "554:\tlearn: 0.0083999\ttotal: 1m 42s\tremaining: 1m 22s\n",
      "555:\tlearn: 0.0083995\ttotal: 1m 42s\tremaining: 1m 22s\n",
      "556:\tlearn: 0.0083994\ttotal: 1m 43s\tremaining: 1m 22s\n",
      "557:\tlearn: 0.0083986\ttotal: 1m 43s\tremaining: 1m 21s\n",
      "558:\tlearn: 0.0083984\ttotal: 1m 43s\tremaining: 1m 21s\n",
      "559:\tlearn: 0.0083983\ttotal: 1m 43s\tremaining: 1m 21s\n",
      "560:\tlearn: 0.0083981\ttotal: 1m 43s\tremaining: 1m 21s\n",
      "561:\tlearn: 0.0083981\ttotal: 1m 44s\tremaining: 1m 21s\n",
      "562:\tlearn: 0.0083978\ttotal: 1m 44s\tremaining: 1m 20s\n",
      "563:\tlearn: 0.0083976\ttotal: 1m 44s\tremaining: 1m 20s\n",
      "564:\tlearn: 0.0083976\ttotal: 1m 44s\tremaining: 1m 20s\n",
      "565:\tlearn: 0.0083974\ttotal: 1m 44s\tremaining: 1m 20s\n",
      "566:\tlearn: 0.0083974\ttotal: 1m 45s\tremaining: 1m 20s\n",
      "567:\tlearn: 0.0083972\ttotal: 1m 45s\tremaining: 1m 20s\n",
      "568:\tlearn: 0.0083972\ttotal: 1m 45s\tremaining: 1m 19s\n",
      "569:\tlearn: 0.0083970\ttotal: 1m 45s\tremaining: 1m 19s\n",
      "570:\tlearn: 0.0083968\ttotal: 1m 45s\tremaining: 1m 19s\n",
      "571:\tlearn: 0.0083966\ttotal: 1m 45s\tremaining: 1m 19s\n",
      "572:\tlearn: 0.0083964\ttotal: 1m 46s\tremaining: 1m 19s\n",
      "573:\tlearn: 0.0083963\ttotal: 1m 46s\tremaining: 1m 18s\n",
      "574:\tlearn: 0.0083962\ttotal: 1m 46s\tremaining: 1m 18s\n",
      "575:\tlearn: 0.0083962\ttotal: 1m 46s\tremaining: 1m 18s\n",
      "576:\tlearn: 0.0083949\ttotal: 1m 46s\tremaining: 1m 18s\n",
      "577:\tlearn: 0.0083947\ttotal: 1m 47s\tremaining: 1m 18s\n",
      "578:\tlearn: 0.0083946\ttotal: 1m 47s\tremaining: 1m 18s\n",
      "579:\tlearn: 0.0083945\ttotal: 1m 47s\tremaining: 1m 17s\n",
      "580:\tlearn: 0.0083943\ttotal: 1m 47s\tremaining: 1m 17s\n",
      "581:\tlearn: 0.0083940\ttotal: 1m 47s\tremaining: 1m 17s\n",
      "582:\tlearn: 0.0083933\ttotal: 1m 48s\tremaining: 1m 17s\n",
      "583:\tlearn: 0.0083931\ttotal: 1m 48s\tremaining: 1m 17s\n",
      "584:\tlearn: 0.0083928\ttotal: 1m 48s\tremaining: 1m 16s\n",
      "585:\tlearn: 0.0083928\ttotal: 1m 48s\tremaining: 1m 16s\n",
      "586:\tlearn: 0.0083927\ttotal: 1m 48s\tremaining: 1m 16s\n",
      "587:\tlearn: 0.0083903\ttotal: 1m 49s\tremaining: 1m 16s\n",
      "588:\tlearn: 0.0083903\ttotal: 1m 49s\tremaining: 1m 16s\n",
      "589:\tlearn: 0.0083901\ttotal: 1m 49s\tremaining: 1m 16s\n",
      "590:\tlearn: 0.0083900\ttotal: 1m 49s\tremaining: 1m 15s\n",
      "591:\tlearn: 0.0083893\ttotal: 1m 49s\tremaining: 1m 15s\n",
      "592:\tlearn: 0.0083893\ttotal: 1m 49s\tremaining: 1m 15s\n",
      "593:\tlearn: 0.0083890\ttotal: 1m 50s\tremaining: 1m 15s\n",
      "594:\tlearn: 0.0083882\ttotal: 1m 50s\tremaining: 1m 15s\n",
      "595:\tlearn: 0.0083880\ttotal: 1m 50s\tremaining: 1m 14s\n",
      "596:\tlearn: 0.0083880\ttotal: 1m 50s\tremaining: 1m 14s\n",
      "597:\tlearn: 0.0083880\ttotal: 1m 50s\tremaining: 1m 14s\n",
      "598:\tlearn: 0.0083879\ttotal: 1m 51s\tremaining: 1m 14s\n",
      "599:\tlearn: 0.0083878\ttotal: 1m 51s\tremaining: 1m 14s\n",
      "600:\tlearn: 0.0083878\ttotal: 1m 51s\tremaining: 1m 14s\n",
      "601:\tlearn: 0.0083876\ttotal: 1m 51s\tremaining: 1m 13s\n",
      "602:\tlearn: 0.0083876\ttotal: 1m 51s\tremaining: 1m 13s\n",
      "603:\tlearn: 0.0083875\ttotal: 1m 52s\tremaining: 1m 13s\n",
      "604:\tlearn: 0.0083874\ttotal: 1m 52s\tremaining: 1m 13s\n",
      "605:\tlearn: 0.0083871\ttotal: 1m 52s\tremaining: 1m 13s\n",
      "606:\tlearn: 0.0083869\ttotal: 1m 52s\tremaining: 1m 12s\n",
      "607:\tlearn: 0.0083867\ttotal: 1m 52s\tremaining: 1m 12s\n",
      "608:\tlearn: 0.0083867\ttotal: 1m 53s\tremaining: 1m 12s\n",
      "609:\tlearn: 0.0083859\ttotal: 1m 53s\tremaining: 1m 12s\n",
      "610:\tlearn: 0.0083856\ttotal: 1m 53s\tremaining: 1m 12s\n",
      "611:\tlearn: 0.0083854\ttotal: 1m 53s\tremaining: 1m 12s\n",
      "612:\tlearn: 0.0083849\ttotal: 1m 53s\tremaining: 1m 11s\n",
      "613:\tlearn: 0.0083845\ttotal: 1m 54s\tremaining: 1m 11s\n",
      "614:\tlearn: 0.0083838\ttotal: 1m 54s\tremaining: 1m 11s\n",
      "615:\tlearn: 0.0083835\ttotal: 1m 54s\tremaining: 1m 11s\n",
      "616:\tlearn: 0.0083833\ttotal: 1m 54s\tremaining: 1m 11s\n",
      "617:\tlearn: 0.0083831\ttotal: 1m 54s\tremaining: 1m 10s\n",
      "618:\tlearn: 0.0083831\ttotal: 1m 55s\tremaining: 1m 10s\n",
      "619:\tlearn: 0.0083830\ttotal: 1m 55s\tremaining: 1m 10s\n",
      "620:\tlearn: 0.0083823\ttotal: 1m 55s\tremaining: 1m 10s\n",
      "621:\tlearn: 0.0083816\ttotal: 1m 55s\tremaining: 1m 10s\n"
     ]
    },
    {
     "name": "stdout",
     "output_type": "stream",
     "text": [
      "622:\tlearn: 0.0083815\ttotal: 1m 55s\tremaining: 1m 10s\n",
      "623:\tlearn: 0.0083814\ttotal: 1m 55s\tremaining: 1m 9s\n",
      "624:\tlearn: 0.0083806\ttotal: 1m 56s\tremaining: 1m 9s\n",
      "625:\tlearn: 0.0083805\ttotal: 1m 56s\tremaining: 1m 9s\n",
      "626:\tlearn: 0.0083797\ttotal: 1m 56s\tremaining: 1m 9s\n",
      "627:\tlearn: 0.0083796\ttotal: 1m 56s\tremaining: 1m 9s\n",
      "628:\tlearn: 0.0083794\ttotal: 1m 56s\tremaining: 1m 8s\n",
      "629:\tlearn: 0.0083793\ttotal: 1m 57s\tremaining: 1m 8s\n",
      "630:\tlearn: 0.0083793\ttotal: 1m 57s\tremaining: 1m 8s\n",
      "631:\tlearn: 0.0083792\ttotal: 1m 57s\tremaining: 1m 8s\n",
      "632:\tlearn: 0.0083792\ttotal: 1m 57s\tremaining: 1m 8s\n",
      "633:\tlearn: 0.0083792\ttotal: 1m 57s\tremaining: 1m 7s\n",
      "634:\tlearn: 0.0083791\ttotal: 1m 57s\tremaining: 1m 7s\n",
      "635:\tlearn: 0.0083790\ttotal: 1m 58s\tremaining: 1m 7s\n",
      "636:\tlearn: 0.0083789\ttotal: 1m 58s\tremaining: 1m 7s\n",
      "637:\tlearn: 0.0083786\ttotal: 1m 58s\tremaining: 1m 7s\n",
      "638:\tlearn: 0.0083786\ttotal: 1m 58s\tremaining: 1m 7s\n",
      "639:\tlearn: 0.0083784\ttotal: 1m 58s\tremaining: 1m 6s\n",
      "640:\tlearn: 0.0083782\ttotal: 1m 59s\tremaining: 1m 6s\n",
      "641:\tlearn: 0.0083781\ttotal: 1m 59s\tremaining: 1m 6s\n",
      "642:\tlearn: 0.0083779\ttotal: 1m 59s\tremaining: 1m 6s\n",
      "643:\tlearn: 0.0083773\ttotal: 1m 59s\tremaining: 1m 6s\n",
      "644:\tlearn: 0.0083767\ttotal: 1m 59s\tremaining: 1m 5s\n",
      "645:\tlearn: 0.0083767\ttotal: 1m 59s\tremaining: 1m 5s\n",
      "646:\tlearn: 0.0083766\ttotal: 2m\tremaining: 1m 5s\n",
      "647:\tlearn: 0.0083765\ttotal: 2m\tremaining: 1m 5s\n",
      "648:\tlearn: 0.0083763\ttotal: 2m\tremaining: 1m 5s\n",
      "649:\tlearn: 0.0083760\ttotal: 2m\tremaining: 1m 5s\n",
      "650:\tlearn: 0.0083759\ttotal: 2m\tremaining: 1m 4s\n",
      "651:\tlearn: 0.0083758\ttotal: 2m 1s\tremaining: 1m 4s\n",
      "652:\tlearn: 0.0083756\ttotal: 2m 1s\tremaining: 1m 4s\n",
      "653:\tlearn: 0.0083756\ttotal: 2m 1s\tremaining: 1m 4s\n",
      "654:\tlearn: 0.0083755\ttotal: 2m 1s\tremaining: 1m 4s\n",
      "655:\tlearn: 0.0083755\ttotal: 2m 1s\tremaining: 1m 3s\n",
      "656:\tlearn: 0.0083755\ttotal: 2m 2s\tremaining: 1m 3s\n",
      "657:\tlearn: 0.0083749\ttotal: 2m 2s\tremaining: 1m 3s\n",
      "658:\tlearn: 0.0083748\ttotal: 2m 2s\tremaining: 1m 3s\n",
      "659:\tlearn: 0.0083747\ttotal: 2m 2s\tremaining: 1m 3s\n",
      "660:\tlearn: 0.0083743\ttotal: 2m 2s\tremaining: 1m 2s\n",
      "661:\tlearn: 0.0083743\ttotal: 2m 2s\tremaining: 1m 2s\n",
      "662:\tlearn: 0.0083741\ttotal: 2m 3s\tremaining: 1m 2s\n",
      "663:\tlearn: 0.0083739\ttotal: 2m 3s\tremaining: 1m 2s\n",
      "664:\tlearn: 0.0083737\ttotal: 2m 3s\tremaining: 1m 2s\n",
      "665:\tlearn: 0.0083735\ttotal: 2m 3s\tremaining: 1m 1s\n",
      "666:\tlearn: 0.0083735\ttotal: 2m 3s\tremaining: 1m 1s\n",
      "667:\tlearn: 0.0083729\ttotal: 2m 3s\tremaining: 1m 1s\n",
      "668:\tlearn: 0.0083728\ttotal: 2m 4s\tremaining: 1m 1s\n",
      "669:\tlearn: 0.0083727\ttotal: 2m 4s\tremaining: 1m 1s\n",
      "670:\tlearn: 0.0083710\ttotal: 2m 4s\tremaining: 1m 1s\n",
      "671:\tlearn: 0.0083705\ttotal: 2m 4s\tremaining: 1m\n",
      "672:\tlearn: 0.0083704\ttotal: 2m 4s\tremaining: 1m\n",
      "673:\tlearn: 0.0083702\ttotal: 2m 5s\tremaining: 1m\n",
      "674:\tlearn: 0.0083701\ttotal: 2m 5s\tremaining: 1m\n",
      "675:\tlearn: 0.0083699\ttotal: 2m 5s\tremaining: 1m\n",
      "676:\tlearn: 0.0083698\ttotal: 2m 5s\tremaining: 60s\n",
      "677:\tlearn: 0.0083698\ttotal: 2m 5s\tremaining: 59.8s\n",
      "678:\tlearn: 0.0083693\ttotal: 2m 6s\tremaining: 59.6s\n",
      "679:\tlearn: 0.0083686\ttotal: 2m 6s\tremaining: 59.4s\n",
      "680:\tlearn: 0.0083683\ttotal: 2m 6s\tremaining: 59.3s\n",
      "681:\tlearn: 0.0083681\ttotal: 2m 6s\tremaining: 59.1s\n",
      "682:\tlearn: 0.0083680\ttotal: 2m 6s\tremaining: 58.9s\n",
      "683:\tlearn: 0.0083679\ttotal: 2m 7s\tremaining: 58.8s\n",
      "684:\tlearn: 0.0083678\ttotal: 2m 7s\tremaining: 58.6s\n",
      "685:\tlearn: 0.0083677\ttotal: 2m 7s\tremaining: 58.4s\n",
      "686:\tlearn: 0.0083676\ttotal: 2m 7s\tremaining: 58.2s\n",
      "687:\tlearn: 0.0083676\ttotal: 2m 7s\tremaining: 58s\n",
      "688:\tlearn: 0.0083675\ttotal: 2m 8s\tremaining: 57.9s\n",
      "689:\tlearn: 0.0083674\ttotal: 2m 8s\tremaining: 57.7s\n",
      "690:\tlearn: 0.0083673\ttotal: 2m 8s\tremaining: 57.5s\n",
      "691:\tlearn: 0.0083667\ttotal: 2m 8s\tremaining: 57.4s\n",
      "692:\tlearn: 0.0083667\ttotal: 2m 9s\tremaining: 57.2s\n",
      "693:\tlearn: 0.0083667\ttotal: 2m 9s\tremaining: 57s\n",
      "694:\tlearn: 0.0083665\ttotal: 2m 9s\tremaining: 56.8s\n",
      "695:\tlearn: 0.0083665\ttotal: 2m 9s\tremaining: 56.6s\n",
      "696:\tlearn: 0.0083664\ttotal: 2m 9s\tremaining: 56.4s\n",
      "697:\tlearn: 0.0083663\ttotal: 2m 9s\tremaining: 56.2s\n",
      "698:\tlearn: 0.0083663\ttotal: 2m 10s\tremaining: 56s\n",
      "699:\tlearn: 0.0083662\ttotal: 2m 10s\tremaining: 55.8s\n",
      "700:\tlearn: 0.0083662\ttotal: 2m 10s\tremaining: 55.7s\n",
      "701:\tlearn: 0.0083662\ttotal: 2m 10s\tremaining: 55.5s\n",
      "702:\tlearn: 0.0083660\ttotal: 2m 10s\tremaining: 55.3s\n",
      "703:\tlearn: 0.0083660\ttotal: 2m 11s\tremaining: 55.1s\n",
      "704:\tlearn: 0.0083660\ttotal: 2m 11s\tremaining: 54.9s\n",
      "705:\tlearn: 0.0083660\ttotal: 2m 11s\tremaining: 54.7s\n",
      "706:\tlearn: 0.0083656\ttotal: 2m 11s\tremaining: 54.5s\n",
      "707:\tlearn: 0.0083655\ttotal: 2m 11s\tremaining: 54.4s\n",
      "708:\tlearn: 0.0083654\ttotal: 2m 12s\tremaining: 54.2s\n",
      "709:\tlearn: 0.0083652\ttotal: 2m 12s\tremaining: 54s\n",
      "710:\tlearn: 0.0083648\ttotal: 2m 12s\tremaining: 53.8s\n",
      "711:\tlearn: 0.0083648\ttotal: 2m 12s\tremaining: 53.7s\n",
      "712:\tlearn: 0.0083647\ttotal: 2m 12s\tremaining: 53.5s\n",
      "713:\tlearn: 0.0083647\ttotal: 2m 13s\tremaining: 53.3s\n",
      "714:\tlearn: 0.0083647\ttotal: 2m 13s\tremaining: 53.1s\n",
      "715:\tlearn: 0.0083646\ttotal: 2m 13s\tremaining: 52.9s\n",
      "716:\tlearn: 0.0083645\ttotal: 2m 13s\tremaining: 52.7s\n",
      "717:\tlearn: 0.0083645\ttotal: 2m 13s\tremaining: 52.6s\n",
      "718:\tlearn: 0.0083643\ttotal: 2m 14s\tremaining: 52.4s\n",
      "719:\tlearn: 0.0083642\ttotal: 2m 14s\tremaining: 52.2s\n",
      "720:\tlearn: 0.0083639\ttotal: 2m 14s\tremaining: 52.1s\n",
      "721:\tlearn: 0.0083638\ttotal: 2m 14s\tremaining: 51.9s\n",
      "722:\tlearn: 0.0083638\ttotal: 2m 14s\tremaining: 51.7s\n",
      "723:\tlearn: 0.0083638\ttotal: 2m 15s\tremaining: 51.5s\n",
      "724:\tlearn: 0.0083636\ttotal: 2m 15s\tremaining: 51.3s\n",
      "725:\tlearn: 0.0083635\ttotal: 2m 15s\tremaining: 51.1s\n",
      "726:\tlearn: 0.0083635\ttotal: 2m 15s\tremaining: 51s\n",
      "727:\tlearn: 0.0083634\ttotal: 2m 15s\tremaining: 50.8s\n",
      "728:\tlearn: 0.0083634\ttotal: 2m 16s\tremaining: 50.6s\n",
      "729:\tlearn: 0.0083630\ttotal: 2m 16s\tremaining: 50.4s\n",
      "730:\tlearn: 0.0083629\ttotal: 2m 16s\tremaining: 50.2s\n",
      "731:\tlearn: 0.0083628\ttotal: 2m 16s\tremaining: 50s\n",
      "732:\tlearn: 0.0083628\ttotal: 2m 16s\tremaining: 49.8s\n",
      "733:\tlearn: 0.0083628\ttotal: 2m 17s\tremaining: 49.7s\n",
      "734:\tlearn: 0.0083626\ttotal: 2m 17s\tremaining: 49.5s\n",
      "735:\tlearn: 0.0083625\ttotal: 2m 17s\tremaining: 49.3s\n",
      "736:\tlearn: 0.0083625\ttotal: 2m 17s\tremaining: 49.1s\n",
      "737:\tlearn: 0.0083624\ttotal: 2m 17s\tremaining: 48.9s\n",
      "738:\tlearn: 0.0083623\ttotal: 2m 18s\tremaining: 48.8s\n",
      "739:\tlearn: 0.0083623\ttotal: 2m 18s\tremaining: 48.6s\n",
      "740:\tlearn: 0.0083622\ttotal: 2m 18s\tremaining: 48.4s\n",
      "741:\tlearn: 0.0083622\ttotal: 2m 18s\tremaining: 48.2s\n",
      "742:\tlearn: 0.0083617\ttotal: 2m 18s\tremaining: 48s\n",
      "743:\tlearn: 0.0083616\ttotal: 2m 19s\tremaining: 47.9s\n",
      "744:\tlearn: 0.0083615\ttotal: 2m 19s\tremaining: 47.7s\n",
      "745:\tlearn: 0.0083615\ttotal: 2m 19s\tremaining: 47.5s\n",
      "746:\tlearn: 0.0083613\ttotal: 2m 19s\tremaining: 47.3s\n",
      "747:\tlearn: 0.0083613\ttotal: 2m 19s\tremaining: 47.2s\n",
      "748:\tlearn: 0.0083612\ttotal: 2m 20s\tremaining: 47s\n",
      "749:\tlearn: 0.0083612\ttotal: 2m 20s\tremaining: 46.8s\n",
      "750:\tlearn: 0.0083611\ttotal: 2m 20s\tremaining: 46.6s\n",
      "751:\tlearn: 0.0083611\ttotal: 2m 20s\tremaining: 46.4s\n",
      "752:\tlearn: 0.0083610\ttotal: 2m 20s\tremaining: 46.2s\n",
      "753:\tlearn: 0.0083610\ttotal: 2m 21s\tremaining: 46s\n",
      "754:\tlearn: 0.0083609\ttotal: 2m 21s\tremaining: 45.9s\n",
      "755:\tlearn: 0.0083608\ttotal: 2m 21s\tremaining: 45.7s\n",
      "756:\tlearn: 0.0083608\ttotal: 2m 21s\tremaining: 45.5s\n",
      "757:\tlearn: 0.0083606\ttotal: 2m 21s\tremaining: 45.3s\n",
      "758:\tlearn: 0.0083606\ttotal: 2m 22s\tremaining: 45.1s\n",
      "759:\tlearn: 0.0083606\ttotal: 2m 22s\tremaining: 44.9s\n",
      "760:\tlearn: 0.0083606\ttotal: 2m 22s\tremaining: 44.7s\n",
      "761:\tlearn: 0.0083605\ttotal: 2m 22s\tremaining: 44.5s\n",
      "762:\tlearn: 0.0083600\ttotal: 2m 22s\tremaining: 44.4s\n",
      "763:\tlearn: 0.0083600\ttotal: 2m 22s\tremaining: 44.2s\n",
      "764:\tlearn: 0.0083600\ttotal: 2m 23s\tremaining: 44s\n",
      "765:\tlearn: 0.0083600\ttotal: 2m 23s\tremaining: 43.8s\n",
      "766:\tlearn: 0.0083599\ttotal: 2m 23s\tremaining: 43.6s\n",
      "767:\tlearn: 0.0083597\ttotal: 2m 23s\tremaining: 43.4s\n",
      "768:\tlearn: 0.0083596\ttotal: 2m 23s\tremaining: 43.2s\n",
      "769:\tlearn: 0.0083595\ttotal: 2m 24s\tremaining: 43s\n",
      "770:\tlearn: 0.0083595\ttotal: 2m 24s\tremaining: 42.9s\n",
      "771:\tlearn: 0.0083594\ttotal: 2m 24s\tremaining: 42.7s\n",
      "772:\tlearn: 0.0083593\ttotal: 2m 24s\tremaining: 42.5s\n",
      "773:\tlearn: 0.0083591\ttotal: 2m 24s\tremaining: 42.3s\n",
      "774:\tlearn: 0.0083590\ttotal: 2m 24s\tremaining: 42.1s\n",
      "775:\tlearn: 0.0083584\ttotal: 2m 25s\tremaining: 41.9s\n",
      "776:\tlearn: 0.0083584\ttotal: 2m 25s\tremaining: 41.7s\n",
      "777:\tlearn: 0.0083582\ttotal: 2m 25s\tremaining: 41.5s\n",
      "778:\tlearn: 0.0083582\ttotal: 2m 25s\tremaining: 41.4s\n"
     ]
    },
    {
     "name": "stdout",
     "output_type": "stream",
     "text": [
      "779:\tlearn: 0.0083581\ttotal: 2m 26s\tremaining: 41.2s\n",
      "780:\tlearn: 0.0083581\ttotal: 2m 26s\tremaining: 41s\n",
      "781:\tlearn: 0.0083581\ttotal: 2m 26s\tremaining: 40.8s\n",
      "782:\tlearn: 0.0083580\ttotal: 2m 26s\tremaining: 40.6s\n",
      "783:\tlearn: 0.0083576\ttotal: 2m 26s\tremaining: 40.5s\n",
      "784:\tlearn: 0.0083576\ttotal: 2m 27s\tremaining: 40.3s\n",
      "785:\tlearn: 0.0083575\ttotal: 2m 27s\tremaining: 40.1s\n",
      "786:\tlearn: 0.0083575\ttotal: 2m 27s\tremaining: 40s\n",
      "787:\tlearn: 0.0083574\ttotal: 2m 27s\tremaining: 39.8s\n",
      "788:\tlearn: 0.0083573\ttotal: 2m 28s\tremaining: 39.6s\n",
      "789:\tlearn: 0.0083573\ttotal: 2m 28s\tremaining: 39.4s\n",
      "790:\tlearn: 0.0083571\ttotal: 2m 28s\tremaining: 39.2s\n",
      "791:\tlearn: 0.0083566\ttotal: 2m 28s\tremaining: 39s\n",
      "792:\tlearn: 0.0083565\ttotal: 2m 28s\tremaining: 38.8s\n",
      "793:\tlearn: 0.0083564\ttotal: 2m 28s\tremaining: 38.7s\n",
      "794:\tlearn: 0.0083564\ttotal: 2m 29s\tremaining: 38.5s\n",
      "795:\tlearn: 0.0083559\ttotal: 2m 29s\tremaining: 38.3s\n",
      "796:\tlearn: 0.0083557\ttotal: 2m 29s\tremaining: 38.1s\n",
      "797:\tlearn: 0.0083556\ttotal: 2m 29s\tremaining: 37.9s\n",
      "798:\tlearn: 0.0083555\ttotal: 2m 29s\tremaining: 37.7s\n",
      "799:\tlearn: 0.0083555\ttotal: 2m 30s\tremaining: 37.5s\n",
      "800:\tlearn: 0.0083553\ttotal: 2m 30s\tremaining: 37.3s\n",
      "801:\tlearn: 0.0083553\ttotal: 2m 30s\tremaining: 37.1s\n",
      "802:\tlearn: 0.0083551\ttotal: 2m 30s\tremaining: 36.9s\n",
      "803:\tlearn: 0.0083551\ttotal: 2m 30s\tremaining: 36.7s\n",
      "804:\tlearn: 0.0083550\ttotal: 2m 30s\tremaining: 36.6s\n",
      "805:\tlearn: 0.0083550\ttotal: 2m 31s\tremaining: 36.4s\n",
      "806:\tlearn: 0.0083547\ttotal: 2m 31s\tremaining: 36.2s\n",
      "807:\tlearn: 0.0083546\ttotal: 2m 31s\tremaining: 36s\n",
      "808:\tlearn: 0.0083542\ttotal: 2m 31s\tremaining: 35.8s\n",
      "809:\tlearn: 0.0083542\ttotal: 2m 31s\tremaining: 35.6s\n",
      "810:\tlearn: 0.0083541\ttotal: 2m 31s\tremaining: 35.4s\n",
      "811:\tlearn: 0.0083541\ttotal: 2m 32s\tremaining: 35.2s\n",
      "812:\tlearn: 0.0083538\ttotal: 2m 32s\tremaining: 35s\n",
      "813:\tlearn: 0.0083537\ttotal: 2m 32s\tremaining: 34.9s\n",
      "814:\tlearn: 0.0083534\ttotal: 2m 32s\tremaining: 34.7s\n",
      "815:\tlearn: 0.0083534\ttotal: 2m 32s\tremaining: 34.5s\n",
      "816:\tlearn: 0.0083534\ttotal: 2m 33s\tremaining: 34.3s\n",
      "817:\tlearn: 0.0083533\ttotal: 2m 33s\tremaining: 34.1s\n",
      "818:\tlearn: 0.0083533\ttotal: 2m 33s\tremaining: 33.9s\n",
      "819:\tlearn: 0.0083532\ttotal: 2m 33s\tremaining: 33.7s\n",
      "820:\tlearn: 0.0083531\ttotal: 2m 33s\tremaining: 33.6s\n",
      "821:\tlearn: 0.0083531\ttotal: 2m 34s\tremaining: 33.4s\n",
      "822:\tlearn: 0.0083530\ttotal: 2m 34s\tremaining: 33.2s\n",
      "823:\tlearn: 0.0083526\ttotal: 2m 34s\tremaining: 33s\n",
      "824:\tlearn: 0.0083526\ttotal: 2m 34s\tremaining: 32.8s\n",
      "825:\tlearn: 0.0083525\ttotal: 2m 34s\tremaining: 32.6s\n",
      "826:\tlearn: 0.0083525\ttotal: 2m 35s\tremaining: 32.4s\n",
      "827:\tlearn: 0.0083524\ttotal: 2m 35s\tremaining: 32.2s\n",
      "828:\tlearn: 0.0083523\ttotal: 2m 35s\tremaining: 32.1s\n",
      "829:\tlearn: 0.0083522\ttotal: 2m 35s\tremaining: 31.9s\n",
      "830:\tlearn: 0.0083520\ttotal: 2m 35s\tremaining: 31.7s\n",
      "831:\tlearn: 0.0083517\ttotal: 2m 35s\tremaining: 31.5s\n",
      "832:\tlearn: 0.0083516\ttotal: 2m 36s\tremaining: 31.3s\n",
      "833:\tlearn: 0.0083516\ttotal: 2m 36s\tremaining: 31.1s\n",
      "834:\tlearn: 0.0083514\ttotal: 2m 36s\tremaining: 30.9s\n",
      "835:\tlearn: 0.0083514\ttotal: 2m 36s\tremaining: 30.8s\n",
      "836:\tlearn: 0.0083514\ttotal: 2m 37s\tremaining: 30.6s\n",
      "837:\tlearn: 0.0083514\ttotal: 2m 37s\tremaining: 30.4s\n",
      "838:\tlearn: 0.0083514\ttotal: 2m 37s\tremaining: 30.2s\n",
      "839:\tlearn: 0.0083514\ttotal: 2m 37s\tremaining: 30s\n",
      "840:\tlearn: 0.0083512\ttotal: 2m 37s\tremaining: 29.8s\n",
      "841:\tlearn: 0.0083512\ttotal: 2m 38s\tremaining: 29.7s\n",
      "842:\tlearn: 0.0083511\ttotal: 2m 38s\tremaining: 29.5s\n",
      "843:\tlearn: 0.0083511\ttotal: 2m 38s\tremaining: 29.3s\n",
      "844:\tlearn: 0.0083510\ttotal: 2m 38s\tremaining: 29.1s\n",
      "845:\tlearn: 0.0083509\ttotal: 2m 38s\tremaining: 28.9s\n",
      "846:\tlearn: 0.0083508\ttotal: 2m 39s\tremaining: 28.7s\n",
      "847:\tlearn: 0.0083508\ttotal: 2m 39s\tremaining: 28.5s\n",
      "848:\tlearn: 0.0083507\ttotal: 2m 39s\tremaining: 28.4s\n",
      "849:\tlearn: 0.0083505\ttotal: 2m 39s\tremaining: 28.2s\n",
      "850:\tlearn: 0.0083505\ttotal: 2m 39s\tremaining: 28s\n",
      "851:\tlearn: 0.0083501\ttotal: 2m 40s\tremaining: 27.8s\n",
      "852:\tlearn: 0.0083500\ttotal: 2m 40s\tremaining: 27.6s\n",
      "853:\tlearn: 0.0083497\ttotal: 2m 40s\tremaining: 27.4s\n",
      "854:\tlearn: 0.0083494\ttotal: 2m 40s\tremaining: 27.2s\n",
      "855:\tlearn: 0.0083494\ttotal: 2m 40s\tremaining: 27s\n",
      "856:\tlearn: 0.0083493\ttotal: 2m 40s\tremaining: 26.9s\n",
      "857:\tlearn: 0.0083493\ttotal: 2m 41s\tremaining: 26.7s\n",
      "858:\tlearn: 0.0083493\ttotal: 2m 41s\tremaining: 26.5s\n",
      "859:\tlearn: 0.0083491\ttotal: 2m 41s\tremaining: 26.3s\n",
      "860:\tlearn: 0.0083490\ttotal: 2m 41s\tremaining: 26.1s\n",
      "861:\tlearn: 0.0083489\ttotal: 2m 41s\tremaining: 25.9s\n",
      "862:\tlearn: 0.0083489\ttotal: 2m 42s\tremaining: 25.7s\n",
      "863:\tlearn: 0.0083489\ttotal: 2m 42s\tremaining: 25.5s\n",
      "864:\tlearn: 0.0083489\ttotal: 2m 42s\tremaining: 25.3s\n",
      "865:\tlearn: 0.0083489\ttotal: 2m 42s\tremaining: 25.2s\n",
      "866:\tlearn: 0.0083488\ttotal: 2m 42s\tremaining: 25s\n",
      "867:\tlearn: 0.0083488\ttotal: 2m 42s\tremaining: 24.8s\n",
      "868:\tlearn: 0.0083486\ttotal: 2m 43s\tremaining: 24.6s\n",
      "869:\tlearn: 0.0083486\ttotal: 2m 43s\tremaining: 24.4s\n",
      "870:\tlearn: 0.0083486\ttotal: 2m 43s\tremaining: 24.2s\n",
      "871:\tlearn: 0.0083486\ttotal: 2m 43s\tremaining: 24s\n",
      "872:\tlearn: 0.0083486\ttotal: 2m 43s\tremaining: 23.8s\n",
      "873:\tlearn: 0.0083486\ttotal: 2m 43s\tremaining: 23.6s\n",
      "874:\tlearn: 0.0083485\ttotal: 2m 44s\tremaining: 23.4s\n",
      "875:\tlearn: 0.0083485\ttotal: 2m 44s\tremaining: 23.3s\n",
      "876:\tlearn: 0.0083484\ttotal: 2m 44s\tremaining: 23.1s\n",
      "877:\tlearn: 0.0083484\ttotal: 2m 44s\tremaining: 22.9s\n",
      "878:\tlearn: 0.0083484\ttotal: 2m 44s\tremaining: 22.7s\n",
      "879:\tlearn: 0.0083483\ttotal: 2m 44s\tremaining: 22.5s\n",
      "880:\tlearn: 0.0083482\ttotal: 2m 45s\tremaining: 22.3s\n",
      "881:\tlearn: 0.0083482\ttotal: 2m 45s\tremaining: 22.1s\n",
      "882:\tlearn: 0.0083482\ttotal: 2m 45s\tremaining: 21.9s\n",
      "883:\tlearn: 0.0083482\ttotal: 2m 45s\tremaining: 21.7s\n",
      "884:\tlearn: 0.0083481\ttotal: 2m 45s\tremaining: 21.6s\n",
      "885:\tlearn: 0.0083481\ttotal: 2m 46s\tremaining: 21.4s\n",
      "886:\tlearn: 0.0083481\ttotal: 2m 46s\tremaining: 21.2s\n",
      "887:\tlearn: 0.0083481\ttotal: 2m 46s\tremaining: 21s\n",
      "888:\tlearn: 0.0083480\ttotal: 2m 46s\tremaining: 20.8s\n",
      "889:\tlearn: 0.0083480\ttotal: 2m 46s\tremaining: 20.6s\n",
      "890:\tlearn: 0.0083478\ttotal: 2m 46s\tremaining: 20.4s\n",
      "891:\tlearn: 0.0083477\ttotal: 2m 47s\tremaining: 20.2s\n",
      "892:\tlearn: 0.0083477\ttotal: 2m 47s\tremaining: 20.1s\n",
      "893:\tlearn: 0.0083477\ttotal: 2m 47s\tremaining: 19.9s\n",
      "894:\tlearn: 0.0083476\ttotal: 2m 47s\tremaining: 19.7s\n",
      "895:\tlearn: 0.0083476\ttotal: 2m 47s\tremaining: 19.5s\n",
      "896:\tlearn: 0.0083476\ttotal: 2m 48s\tremaining: 19.3s\n",
      "897:\tlearn: 0.0083476\ttotal: 2m 48s\tremaining: 19.1s\n",
      "898:\tlearn: 0.0083472\ttotal: 2m 48s\tremaining: 18.9s\n",
      "899:\tlearn: 0.0083470\ttotal: 2m 48s\tremaining: 18.7s\n",
      "900:\tlearn: 0.0083467\ttotal: 2m 48s\tremaining: 18.5s\n",
      "901:\tlearn: 0.0083467\ttotal: 2m 48s\tremaining: 18.4s\n",
      "902:\tlearn: 0.0083467\ttotal: 2m 49s\tremaining: 18.2s\n",
      "903:\tlearn: 0.0083467\ttotal: 2m 49s\tremaining: 18s\n",
      "904:\tlearn: 0.0083467\ttotal: 2m 49s\tremaining: 17.8s\n",
      "905:\tlearn: 0.0083464\ttotal: 2m 49s\tremaining: 17.6s\n",
      "906:\tlearn: 0.0083464\ttotal: 2m 49s\tremaining: 17.4s\n",
      "907:\tlearn: 0.0083464\ttotal: 2m 50s\tremaining: 17.2s\n",
      "908:\tlearn: 0.0083464\ttotal: 2m 50s\tremaining: 17s\n",
      "909:\tlearn: 0.0083464\ttotal: 2m 50s\tremaining: 16.9s\n",
      "910:\tlearn: 0.0083462\ttotal: 2m 50s\tremaining: 16.7s\n",
      "911:\tlearn: 0.0083462\ttotal: 2m 50s\tremaining: 16.5s\n",
      "912:\tlearn: 0.0083461\ttotal: 2m 50s\tremaining: 16.3s\n",
      "913:\tlearn: 0.0083461\ttotal: 2m 51s\tremaining: 16.1s\n",
      "914:\tlearn: 0.0083460\ttotal: 2m 51s\tremaining: 15.9s\n",
      "915:\tlearn: 0.0083460\ttotal: 2m 51s\tremaining: 15.7s\n",
      "916:\tlearn: 0.0083460\ttotal: 2m 51s\tremaining: 15.5s\n",
      "917:\tlearn: 0.0083458\ttotal: 2m 51s\tremaining: 15.4s\n",
      "918:\tlearn: 0.0083458\ttotal: 2m 52s\tremaining: 15.2s\n",
      "919:\tlearn: 0.0083457\ttotal: 2m 52s\tremaining: 15s\n",
      "920:\tlearn: 0.0083456\ttotal: 2m 52s\tremaining: 14.8s\n",
      "921:\tlearn: 0.0083455\ttotal: 2m 52s\tremaining: 14.6s\n",
      "922:\tlearn: 0.0083454\ttotal: 2m 52s\tremaining: 14.4s\n",
      "923:\tlearn: 0.0083453\ttotal: 2m 52s\tremaining: 14.2s\n",
      "924:\tlearn: 0.0083452\ttotal: 2m 53s\tremaining: 14s\n",
      "925:\tlearn: 0.0083452\ttotal: 2m 53s\tremaining: 13.8s\n",
      "926:\tlearn: 0.0083452\ttotal: 2m 53s\tremaining: 13.7s\n",
      "927:\tlearn: 0.0083451\ttotal: 2m 53s\tremaining: 13.5s\n",
      "928:\tlearn: 0.0083450\ttotal: 2m 53s\tremaining: 13.3s\n",
      "929:\tlearn: 0.0083450\ttotal: 2m 53s\tremaining: 13.1s\n",
      "930:\tlearn: 0.0083450\ttotal: 2m 54s\tremaining: 12.9s\n",
      "931:\tlearn: 0.0083449\ttotal: 2m 54s\tremaining: 12.7s\n",
      "932:\tlearn: 0.0083449\ttotal: 2m 54s\tremaining: 12.5s\n",
      "933:\tlearn: 0.0083448\ttotal: 2m 54s\tremaining: 12.4s\n",
      "934:\tlearn: 0.0083447\ttotal: 2m 55s\tremaining: 12.2s\n"
     ]
    },
    {
     "name": "stdout",
     "output_type": "stream",
     "text": [
      "935:\tlearn: 0.0083447\ttotal: 2m 55s\tremaining: 12s\n",
      "936:\tlearn: 0.0083446\ttotal: 2m 55s\tremaining: 11.8s\n",
      "937:\tlearn: 0.0083446\ttotal: 2m 55s\tremaining: 11.6s\n",
      "938:\tlearn: 0.0083445\ttotal: 2m 55s\tremaining: 11.4s\n",
      "939:\tlearn: 0.0083445\ttotal: 2m 56s\tremaining: 11.2s\n",
      "940:\tlearn: 0.0083445\ttotal: 2m 56s\tremaining: 11.1s\n",
      "941:\tlearn: 0.0083445\ttotal: 2m 56s\tremaining: 10.9s\n",
      "942:\tlearn: 0.0083445\ttotal: 2m 56s\tremaining: 10.7s\n",
      "943:\tlearn: 0.0083444\ttotal: 2m 56s\tremaining: 10.5s\n",
      "944:\tlearn: 0.0083444\ttotal: 2m 57s\tremaining: 10.3s\n",
      "945:\tlearn: 0.0083442\ttotal: 2m 57s\tremaining: 10.1s\n",
      "946:\tlearn: 0.0083442\ttotal: 2m 57s\tremaining: 9.94s\n",
      "947:\tlearn: 0.0083442\ttotal: 2m 57s\tremaining: 9.75s\n",
      "948:\tlearn: 0.0083441\ttotal: 2m 57s\tremaining: 9.56s\n",
      "949:\tlearn: 0.0083440\ttotal: 2m 58s\tremaining: 9.37s\n",
      "950:\tlearn: 0.0083440\ttotal: 2m 58s\tremaining: 9.18s\n",
      "951:\tlearn: 0.0083440\ttotal: 2m 58s\tremaining: 8.99s\n",
      "952:\tlearn: 0.0083440\ttotal: 2m 58s\tremaining: 8.81s\n",
      "953:\tlearn: 0.0083440\ttotal: 2m 58s\tremaining: 8.62s\n",
      "954:\tlearn: 0.0083439\ttotal: 2m 58s\tremaining: 8.43s\n",
      "955:\tlearn: 0.0083439\ttotal: 2m 59s\tremaining: 8.24s\n",
      "956:\tlearn: 0.0083439\ttotal: 2m 59s\tremaining: 8.06s\n",
      "957:\tlearn: 0.0083438\ttotal: 2m 59s\tremaining: 7.87s\n",
      "958:\tlearn: 0.0083438\ttotal: 2m 59s\tremaining: 7.69s\n",
      "959:\tlearn: 0.0083438\ttotal: 3m\tremaining: 7.5s\n",
      "960:\tlearn: 0.0083437\ttotal: 3m\tremaining: 7.32s\n",
      "961:\tlearn: 0.0083437\ttotal: 3m\tremaining: 7.13s\n",
      "962:\tlearn: 0.0083437\ttotal: 3m\tremaining: 6.94s\n",
      "963:\tlearn: 0.0083437\ttotal: 3m\tremaining: 6.75s\n",
      "964:\tlearn: 0.0083437\ttotal: 3m 1s\tremaining: 6.57s\n",
      "965:\tlearn: 0.0083435\ttotal: 3m 1s\tremaining: 6.38s\n",
      "966:\tlearn: 0.0083435\ttotal: 3m 1s\tremaining: 6.19s\n",
      "967:\tlearn: 0.0083435\ttotal: 3m 1s\tremaining: 6s\n",
      "968:\tlearn: 0.0083434\ttotal: 3m 1s\tremaining: 5.81s\n",
      "969:\tlearn: 0.0083431\ttotal: 3m 1s\tremaining: 5.63s\n",
      "970:\tlearn: 0.0083430\ttotal: 3m 2s\tremaining: 5.44s\n",
      "971:\tlearn: 0.0083430\ttotal: 3m 2s\tremaining: 5.25s\n",
      "972:\tlearn: 0.0083430\ttotal: 3m 2s\tremaining: 5.06s\n",
      "973:\tlearn: 0.0083430\ttotal: 3m 2s\tremaining: 4.87s\n",
      "974:\tlearn: 0.0083429\ttotal: 3m 2s\tremaining: 4.69s\n",
      "975:\tlearn: 0.0083428\ttotal: 3m 2s\tremaining: 4.5s\n",
      "976:\tlearn: 0.0083428\ttotal: 3m 3s\tremaining: 4.31s\n",
      "977:\tlearn: 0.0083426\ttotal: 3m 3s\tremaining: 4.12s\n",
      "978:\tlearn: 0.0083426\ttotal: 3m 3s\tremaining: 3.94s\n",
      "979:\tlearn: 0.0083425\ttotal: 3m 3s\tremaining: 3.75s\n",
      "980:\tlearn: 0.0083424\ttotal: 3m 3s\tremaining: 3.56s\n",
      "981:\tlearn: 0.0083423\ttotal: 3m 4s\tremaining: 3.37s\n",
      "982:\tlearn: 0.0083421\ttotal: 3m 4s\tremaining: 3.19s\n",
      "983:\tlearn: 0.0083421\ttotal: 3m 4s\tremaining: 3s\n",
      "984:\tlearn: 0.0083420\ttotal: 3m 4s\tremaining: 2.81s\n",
      "985:\tlearn: 0.0083417\ttotal: 3m 4s\tremaining: 2.62s\n",
      "986:\tlearn: 0.0083417\ttotal: 3m 5s\tremaining: 2.44s\n",
      "987:\tlearn: 0.0083414\ttotal: 3m 5s\tremaining: 2.25s\n",
      "988:\tlearn: 0.0083414\ttotal: 3m 5s\tremaining: 2.06s\n",
      "989:\tlearn: 0.0083413\ttotal: 3m 5s\tremaining: 1.87s\n",
      "990:\tlearn: 0.0083413\ttotal: 3m 5s\tremaining: 1.69s\n",
      "991:\tlearn: 0.0083413\ttotal: 3m 5s\tremaining: 1.5s\n",
      "992:\tlearn: 0.0083413\ttotal: 3m 6s\tremaining: 1.31s\n",
      "993:\tlearn: 0.0083412\ttotal: 3m 6s\tremaining: 1.12s\n",
      "994:\tlearn: 0.0083412\ttotal: 3m 6s\tremaining: 937ms\n",
      "995:\tlearn: 0.0083412\ttotal: 3m 6s\tremaining: 749ms\n",
      "996:\tlearn: 0.0083411\ttotal: 3m 6s\tremaining: 562ms\n",
      "997:\tlearn: 0.0083409\ttotal: 3m 6s\tremaining: 375ms\n",
      "998:\tlearn: 0.0083409\ttotal: 3m 7s\tremaining: 187ms\n",
      "999:\tlearn: 0.0083408\ttotal: 3m 7s\tremaining: 0us\n"
     ]
    }
   ],
   "source": [
    "cat_model = CatBoostClassifier().fit(X_train, y_train)"
   ]
  },
  {
   "cell_type": "code",
   "execution_count": 21,
   "metadata": {},
   "outputs": [
    {
     "data": {
      "text/plain": [
       "0.9943566749081563"
      ]
     },
     "execution_count": 21,
     "metadata": {},
     "output_type": "execute_result"
    }
   ],
   "source": [
    "y_pred = cat_model.predict(X_test)\n",
    "accuracy_score(y_test, y_pred)"
   ]
  },
  {
   "cell_type": "code",
   "execution_count": 22,
   "metadata": {},
   "outputs": [
    {
     "name": "stdout",
     "output_type": "stream",
     "text": [
      "              precision    recall  f1-score   support\n",
      "\n",
      "         0.0       1.00      0.66      0.79      1178\n",
      "         1.0       1.00      1.00      1.00        63\n",
      "         2.0       1.00      1.00      1.00       169\n",
      "         3.0       1.00      1.00      1.00       155\n",
      "         4.0       1.00      1.00      1.00       305\n",
      "         5.0       1.00      1.00      1.00       120\n",
      "         6.0       1.00      1.00      1.00        28\n",
      "         7.0       0.99      1.00      1.00     69571\n",
      "\n",
      "    accuracy                           0.99     71589\n",
      "   macro avg       1.00      0.96      0.97     71589\n",
      "weighted avg       0.99      0.99      0.99     71589\n",
      "\n"
     ]
    }
   ],
   "source": [
    "report = classification_report(y_test, cat_model.predict(X_test))\n",
    "print(report)"
   ]
  },
  {
   "cell_type": "markdown",
   "metadata": {},
   "source": [
    "## Gradient Boosting Machine Classifier"
   ]
  },
  {
   "cell_type": "code",
   "execution_count": 23,
   "metadata": {},
   "outputs": [],
   "source": [
    "gbm_model = GradientBoostingClassifier().fit(X_train, y_train)"
   ]
  },
  {
   "cell_type": "code",
   "execution_count": 24,
   "metadata": {},
   "outputs": [
    {
     "data": {
      "text/plain": [
       "0.9942588945229016"
      ]
     },
     "execution_count": 24,
     "metadata": {},
     "output_type": "execute_result"
    }
   ],
   "source": [
    "y_pred = gbm_model.predict(X_test)\n",
    "accuracy_score(y_test, y_pred)"
   ]
  },
  {
   "cell_type": "code",
   "execution_count": 25,
   "metadata": {},
   "outputs": [
    {
     "name": "stdout",
     "output_type": "stream",
     "text": [
      "              precision    recall  f1-score   support\n",
      "\n",
      "         0.0       1.00      0.66      0.79      1178\n",
      "         1.0       0.95      1.00      0.98        63\n",
      "         2.0       1.00      0.98      0.99       169\n",
      "         3.0       1.00      1.00      1.00       155\n",
      "         4.0       1.00      1.00      1.00       305\n",
      "         5.0       0.96      1.00      0.98       120\n",
      "         6.0       1.00      1.00      1.00        28\n",
      "         7.0       0.99      1.00      1.00     69571\n",
      "\n",
      "    accuracy                           0.99     71589\n",
      "   macro avg       0.99      0.96      0.97     71589\n",
      "weighted avg       0.99      0.99      0.99     71589\n",
      "\n"
     ]
    }
   ],
   "source": [
    "report = classification_report(y_test, gbm_model.predict(X_test))\n",
    "print(report)"
   ]
  },
  {
   "cell_type": "markdown",
   "metadata": {},
   "source": [
    "## AdaBoost Classifier"
   ]
  },
  {
   "cell_type": "code",
   "execution_count": 26,
   "metadata": {},
   "outputs": [],
   "source": [
    "from sklearn.ensemble import  AdaBoostClassifier"
   ]
  },
  {
   "cell_type": "code",
   "execution_count": 27,
   "metadata": {},
   "outputs": [],
   "source": [
    "ada_model =  AdaBoostClassifier().fit(X_train, y_train)"
   ]
  },
  {
   "cell_type": "code",
   "execution_count": 28,
   "metadata": {},
   "outputs": [],
   "source": [
    "y_pred = ada_model.predict(X_test)"
   ]
  },
  {
   "cell_type": "code",
   "execution_count": 29,
   "metadata": {},
   "outputs": [
    {
     "data": {
      "text/plain": [
       "0.9718811549260361"
      ]
     },
     "execution_count": 29,
     "metadata": {},
     "output_type": "execute_result"
    }
   ],
   "source": [
    "accuracy_score(y_test, y_pred)"
   ]
  },
  {
   "cell_type": "code",
   "execution_count": 30,
   "metadata": {},
   "outputs": [
    {
     "name": "stdout",
     "output_type": "stream",
     "text": [
      "              precision    recall  f1-score   support\n",
      "\n",
      "         0.0       0.00      0.00      0.00      1178\n",
      "         1.0       0.00      0.00      0.00        63\n",
      "         2.0       0.00      0.00      0.00       169\n",
      "         3.0       0.00      0.00      0.00       155\n",
      "         4.0       0.01      0.02      0.02       305\n",
      "         5.0       0.00      0.00      0.00       120\n",
      "         6.0       0.00      0.00      0.00        28\n",
      "         7.0       0.98      1.00      0.99     69571\n",
      "\n",
      "    accuracy                           0.97     71589\n",
      "   macro avg       0.12      0.13      0.13     71589\n",
      "weighted avg       0.95      0.97      0.96     71589\n",
      "\n"
     ]
    },
    {
     "name": "stderr",
     "output_type": "stream",
     "text": [
      "C:\\Users\\metec\\anaconda3\\lib\\site-packages\\sklearn\\metrics\\_classification.py:1245: UndefinedMetricWarning: Precision and F-score are ill-defined and being set to 0.0 in labels with no predicted samples. Use `zero_division` parameter to control this behavior.\n",
      "  _warn_prf(average, modifier, msg_start, len(result))\n",
      "C:\\Users\\metec\\anaconda3\\lib\\site-packages\\sklearn\\metrics\\_classification.py:1245: UndefinedMetricWarning: Precision and F-score are ill-defined and being set to 0.0 in labels with no predicted samples. Use `zero_division` parameter to control this behavior.\n",
      "  _warn_prf(average, modifier, msg_start, len(result))\n",
      "C:\\Users\\metec\\anaconda3\\lib\\site-packages\\sklearn\\metrics\\_classification.py:1245: UndefinedMetricWarning: Precision and F-score are ill-defined and being set to 0.0 in labels with no predicted samples. Use `zero_division` parameter to control this behavior.\n",
      "  _warn_prf(average, modifier, msg_start, len(result))\n"
     ]
    }
   ],
   "source": [
    "report = classification_report(y_test, ada_model.predict(X_test))\n",
    "print(report)"
   ]
  },
  {
   "cell_type": "markdown",
   "metadata": {},
   "source": [
    "## Artificial Neural Network Classifier"
   ]
  },
  {
   "cell_type": "code",
   "execution_count": 31,
   "metadata": {},
   "outputs": [],
   "source": [
    "scaler = StandardScaler()"
   ]
  },
  {
   "cell_type": "code",
   "execution_count": 32,
   "metadata": {},
   "outputs": [],
   "source": [
    "\n",
    "scaler.fit(X_train)\n",
    "X_train_scaled = scaler.transform(X_train)\n",
    "X_test_scaled = scaler.transform(X_test)\n"
   ]
  },
  {
   "cell_type": "code",
   "execution_count": 33,
   "metadata": {},
   "outputs": [],
   "source": [
    "mlpc = MLPClassifier().fit(X_train_scaled, y_train)"
   ]
  },
  {
   "cell_type": "code",
   "execution_count": 34,
   "metadata": {},
   "outputs": [
    {
     "data": {
      "text/plain": [
       "0.994119208258252"
      ]
     },
     "execution_count": 34,
     "metadata": {},
     "output_type": "execute_result"
    }
   ],
   "source": [
    "y_pred = mlpc.predict(X_test_scaled)\n",
    "accuracy_score(y_test, y_pred)"
   ]
  },
  {
   "cell_type": "code",
   "execution_count": 35,
   "metadata": {},
   "outputs": [
    {
     "name": "stdout",
     "output_type": "stream",
     "text": [
      "              precision    recall  f1-score   support\n",
      "\n",
      "         0.0       0.00      0.00      0.00      1178\n",
      "         1.0       0.00      0.00      0.00        63\n",
      "         2.0       0.00      0.00      0.00       169\n",
      "         3.0       0.00      0.00      0.00       155\n",
      "         4.0       0.00      0.89      0.01       305\n",
      "         5.0       0.00      0.00      0.00       120\n",
      "         6.0       0.00      0.00      0.00        28\n",
      "         7.0       0.99      0.18      0.30     69571\n",
      "\n",
      "    accuracy                           0.17     71589\n",
      "   macro avg       0.12      0.13      0.04     71589\n",
      "weighted avg       0.97      0.17      0.29     71589\n",
      "\n"
     ]
    },
    {
     "name": "stderr",
     "output_type": "stream",
     "text": [
      "C:\\Users\\metec\\anaconda3\\lib\\site-packages\\sklearn\\metrics\\_classification.py:1245: UndefinedMetricWarning: Precision and F-score are ill-defined and being set to 0.0 in labels with no predicted samples. Use `zero_division` parameter to control this behavior.\n",
      "  _warn_prf(average, modifier, msg_start, len(result))\n",
      "C:\\Users\\metec\\anaconda3\\lib\\site-packages\\sklearn\\metrics\\_classification.py:1245: UndefinedMetricWarning: Precision and F-score are ill-defined and being set to 0.0 in labels with no predicted samples. Use `zero_division` parameter to control this behavior.\n",
      "  _warn_prf(average, modifier, msg_start, len(result))\n",
      "C:\\Users\\metec\\anaconda3\\lib\\site-packages\\sklearn\\metrics\\_classification.py:1245: UndefinedMetricWarning: Precision and F-score are ill-defined and being set to 0.0 in labels with no predicted samples. Use `zero_division` parameter to control this behavior.\n",
      "  _warn_prf(average, modifier, msg_start, len(result))\n"
     ]
    }
   ],
   "source": [
    "report = classification_report(y_test, mlpc.predict(X_test))\n",
    "print(report)"
   ]
  },
  {
   "cell_type": "markdown",
   "metadata": {},
   "source": [
    "## Logistic Regression Classifer"
   ]
  },
  {
   "cell_type": "code",
   "execution_count": 36,
   "metadata": {},
   "outputs": [
    {
     "data": {
      "text/plain": [
       "LogisticRegression(solver='liblinear')"
      ]
     },
     "execution_count": 36,
     "metadata": {},
     "output_type": "execute_result"
    }
   ],
   "source": [
    "from sklearn.linear_model import LogisticRegression\n",
    "loj = LogisticRegression(solver = \"liblinear\")\n",
    "loj_model = loj.fit(X_train,y_train)\n",
    "loj_model"
   ]
  },
  {
   "cell_type": "code",
   "execution_count": 37,
   "metadata": {},
   "outputs": [],
   "source": [
    "y_pred = loj_model.predict(X_test)"
   ]
  },
  {
   "cell_type": "code",
   "execution_count": 38,
   "metadata": {},
   "outputs": [
    {
     "name": "stdout",
     "output_type": "stream",
     "text": [
      "[[    0     0     0     0     0     0     0  1178]\n",
      " [    0     0     0     0     0     0     0    63]\n",
      " [    0     0     0     0     0     0     0   169]\n",
      " [    0     0     0     0     0     0     0   155]\n",
      " [    0     0     0     0     0     0     0   305]\n",
      " [    0     0     0     0     0     0     0   120]\n",
      " [    0     0     0     0     0     0     0    28]\n",
      " [    0     0     0     0     0     0     0 69571]]\n"
     ]
    }
   ],
   "source": [
    "print(confusion_matrix(y_test, y_pred))"
   ]
  },
  {
   "cell_type": "code",
   "execution_count": 39,
   "metadata": {},
   "outputs": [
    {
     "data": {
      "text/plain": [
       "0.9718113117937113"
      ]
     },
     "execution_count": 39,
     "metadata": {},
     "output_type": "execute_result"
    }
   ],
   "source": [
    "accuracy_score(y_test, y_pred)"
   ]
  },
  {
   "cell_type": "code",
   "execution_count": 40,
   "metadata": {},
   "outputs": [
    {
     "name": "stdout",
     "output_type": "stream",
     "text": [
      "              precision    recall  f1-score   support\n",
      "\n",
      "         0.0       0.00      0.00      0.00      1178\n",
      "         1.0       0.00      0.00      0.00        63\n",
      "         2.0       0.00      0.00      0.00       169\n",
      "         3.0       0.00      0.00      0.00       155\n",
      "         4.0       0.00      0.00      0.00       305\n",
      "         5.0       0.00      0.00      0.00       120\n",
      "         6.0       0.00      0.00      0.00        28\n",
      "         7.0       0.97      1.00      0.99     69571\n",
      "\n",
      "    accuracy                           0.97     71589\n",
      "   macro avg       0.12      0.12      0.12     71589\n",
      "weighted avg       0.94      0.97      0.96     71589\n",
      "\n"
     ]
    },
    {
     "name": "stderr",
     "output_type": "stream",
     "text": [
      "C:\\Users\\metec\\anaconda3\\lib\\site-packages\\sklearn\\metrics\\_classification.py:1245: UndefinedMetricWarning: Precision and F-score are ill-defined and being set to 0.0 in labels with no predicted samples. Use `zero_division` parameter to control this behavior.\n",
      "  _warn_prf(average, modifier, msg_start, len(result))\n",
      "C:\\Users\\metec\\anaconda3\\lib\\site-packages\\sklearn\\metrics\\_classification.py:1245: UndefinedMetricWarning: Precision and F-score are ill-defined and being set to 0.0 in labels with no predicted samples. Use `zero_division` parameter to control this behavior.\n",
      "  _warn_prf(average, modifier, msg_start, len(result))\n",
      "C:\\Users\\metec\\anaconda3\\lib\\site-packages\\sklearn\\metrics\\_classification.py:1245: UndefinedMetricWarning: Precision and F-score are ill-defined and being set to 0.0 in labels with no predicted samples. Use `zero_division` parameter to control this behavior.\n",
      "  _warn_prf(average, modifier, msg_start, len(result))\n"
     ]
    }
   ],
   "source": [
    "print(classification_report(y_test,loj_model.predict(X_test)))"
   ]
  },
  {
   "cell_type": "markdown",
   "metadata": {},
   "source": [
    "## Decision Tree Classifier"
   ]
  },
  {
   "cell_type": "code",
   "execution_count": 41,
   "metadata": {},
   "outputs": [],
   "source": [
    "from sklearn.tree import DecisionTreeClassifier"
   ]
  },
  {
   "cell_type": "code",
   "execution_count": 42,
   "metadata": {},
   "outputs": [],
   "source": [
    "cart = DecisionTreeClassifier()\n",
    "cart_model = cart.fit(X_train, y_train)"
   ]
  },
  {
   "cell_type": "code",
   "execution_count": 43,
   "metadata": {},
   "outputs": [
    {
     "data": {
      "text/plain": [
       "DecisionTreeClassifier()"
      ]
     },
     "execution_count": 43,
     "metadata": {},
     "output_type": "execute_result"
    }
   ],
   "source": [
    "cart_model"
   ]
  },
  {
   "cell_type": "code",
   "execution_count": 44,
   "metadata": {},
   "outputs": [
    {
     "data": {
      "text/plain": [
       "0.9943706435346212"
      ]
     },
     "execution_count": 44,
     "metadata": {},
     "output_type": "execute_result"
    }
   ],
   "source": [
    "y_pred = cart_model.predict(X_test)\n",
    "accuracy_score(y_test, y_pred)"
   ]
  },
  {
   "cell_type": "code",
   "execution_count": 45,
   "metadata": {},
   "outputs": [
    {
     "name": "stdout",
     "output_type": "stream",
     "text": [
      "              precision    recall  f1-score   support\n",
      "\n",
      "         0.0       1.00      0.66      0.79      1178\n",
      "         1.0       1.00      1.00      1.00        63\n",
      "         2.0       1.00      1.00      1.00       169\n",
      "         3.0       1.00      1.00      1.00       155\n",
      "         4.0       1.00      1.00      1.00       305\n",
      "         5.0       1.00      1.00      1.00       120\n",
      "         6.0       1.00      1.00      1.00        28\n",
      "         7.0       0.99      1.00      1.00     69571\n",
      "\n",
      "    accuracy                           0.99     71589\n",
      "   macro avg       1.00      0.96      0.97     71589\n",
      "weighted avg       0.99      0.99      0.99     71589\n",
      "\n"
     ]
    }
   ],
   "source": [
    "report = classification_report(y_test, cart_model.predict(X_test))\n",
    "print(report)"
   ]
  },
  {
   "cell_type": "markdown",
   "metadata": {},
   "source": [
    "#  Random Forest Classifier"
   ]
  },
  {
   "cell_type": "code",
   "execution_count": 46,
   "metadata": {},
   "outputs": [],
   "source": [
    "from sklearn.ensemble import RandomForestClassifier\n",
    "\n",
    "\n",
    "rf = RandomForestClassifier(max_depth=2, random_state=0)\n",
    "rf_model = rf.fit(X_train, y_train)\n"
   ]
  },
  {
   "cell_type": "code",
   "execution_count": 47,
   "metadata": {},
   "outputs": [
    {
     "data": {
      "text/plain": [
       "RandomForestClassifier(max_depth=2, random_state=0)"
      ]
     },
     "execution_count": 47,
     "metadata": {},
     "output_type": "execute_result"
    }
   ],
   "source": [
    "rf_model"
   ]
  },
  {
   "cell_type": "code",
   "execution_count": 48,
   "metadata": {},
   "outputs": [
    {
     "data": {
      "text/plain": [
       "0.9767142996829121"
      ]
     },
     "execution_count": 48,
     "metadata": {},
     "output_type": "execute_result"
    }
   ],
   "source": [
    "y_pred = rf_model.predict(X_test)\n",
    "accuracy_score(y_test, y_pred)"
   ]
  },
  {
   "cell_type": "code",
   "execution_count": 49,
   "metadata": {},
   "outputs": [
    {
     "name": "stdout",
     "output_type": "stream",
     "text": [
      "              precision    recall  f1-score   support\n",
      "\n",
      "         0.0       0.99      0.30      0.46      1178\n",
      "         1.0       0.00      0.00      0.00        63\n",
      "         2.0       0.00      0.00      0.00       169\n",
      "         3.0       0.00      0.00      0.00       155\n",
      "         4.0       0.00      0.00      0.00       305\n",
      "         5.0       0.00      0.00      0.00       120\n",
      "         6.0       0.00      0.00      0.00        28\n",
      "         7.0       0.98      1.00      0.99     69571\n",
      "\n",
      "    accuracy                           0.98     71589\n",
      "   macro avg       0.25      0.16      0.18     71589\n",
      "weighted avg       0.97      0.98      0.97     71589\n",
      "\n"
     ]
    },
    {
     "name": "stderr",
     "output_type": "stream",
     "text": [
      "C:\\Users\\metec\\anaconda3\\lib\\site-packages\\sklearn\\metrics\\_classification.py:1245: UndefinedMetricWarning: Precision and F-score are ill-defined and being set to 0.0 in labels with no predicted samples. Use `zero_division` parameter to control this behavior.\n",
      "  _warn_prf(average, modifier, msg_start, len(result))\n",
      "C:\\Users\\metec\\anaconda3\\lib\\site-packages\\sklearn\\metrics\\_classification.py:1245: UndefinedMetricWarning: Precision and F-score are ill-defined and being set to 0.0 in labels with no predicted samples. Use `zero_division` parameter to control this behavior.\n",
      "  _warn_prf(average, modifier, msg_start, len(result))\n",
      "C:\\Users\\metec\\anaconda3\\lib\\site-packages\\sklearn\\metrics\\_classification.py:1245: UndefinedMetricWarning: Precision and F-score are ill-defined and being set to 0.0 in labels with no predicted samples. Use `zero_division` parameter to control this behavior.\n",
      "  _warn_prf(average, modifier, msg_start, len(result))\n"
     ]
    }
   ],
   "source": [
    "report = classification_report(y_test, rf_model.predict(X_test))\n",
    "print(report)"
   ]
  },
  {
   "cell_type": "code",
   "execution_count": 50,
   "metadata": {},
   "outputs": [
    {
     "name": "stdout",
     "output_type": "stream",
     "text": [
      "----------------------------\n",
      "KNeighborsClassifier:\n",
      "Accuracy: 99.3700%\n",
      "----------------------------\n",
      "AdaBoostClassifier:\n",
      "Accuracy: 97.1881%\n",
      "----------------------------\n",
      "GradientBoostingClassifier:\n",
      "Accuracy: 99.4259%\n",
      "----------------------------\n",
      "MLPClassifier:\n",
      "Accuracy: 17.4552%\n",
      "----------------------------\n",
      "CatBoostClassifier:\n",
      "Accuracy: 99.4357%\n",
      "----------------------------\n",
      "GaussianNB:\n",
      "Accuracy: 1.8117%\n",
      "----------------------------\n",
      "DecisionTreeClassifier:\n",
      "Accuracy: 99.4371%\n",
      "----------------------------\n",
      "XGBClassifier:\n",
      "Accuracy: 99.4371%\n",
      "----------------------------\n",
      "LogisticRegression:\n",
      "Accuracy: 97.1811%\n",
      "----------------------------\n",
      "RandomForestClassifier:\n",
      "Accuracy: 97.6714%\n"
     ]
    }
   ],
   "source": [
    "\n",
    "modeller = [\n",
    "    \n",
    "    knn_model,\n",
    "    ada_model,\n",
    "    gbm_model,\n",
    "    mlpc,\n",
    "    cat_model,\n",
    "    nb_model,\n",
    "    cart_model,\n",
    "    xgb_model,\n",
    "    loj_model,\n",
    "    rf_model\n",
    "    \n",
    "    \n",
    "    \n",
    "    \n",
    "    \n",
    "]\n",
    "\n",
    "\n",
    "for model in modeller:\n",
    "    isimler = model.__class__.__name__\n",
    "    y_pred = model.predict(X_test)\n",
    "    dogruluk = accuracy_score(y_test, y_pred)\n",
    "    print(\"-\"*28)\n",
    "    print(isimler + \":\" )\n",
    "    print(\"Accuracy: {:.4%}\".format(dogruluk))"
   ]
  },
  {
   "cell_type": "code",
   "execution_count": 51,
   "metadata": {},
   "outputs": [
    {
     "data": {
      "image/png": "[encoded data removed]",
      "text/plain": [
       "<Figure size 432x288 with 1 Axes>"
      ]
     },
     "metadata": {
      "needs_background": "light"
     },
     "output_type": "display_data"
    }
   ],
   "source": [
    "sonuc = []\n",
    "\n",
    "sonuclar = pd.DataFrame(columns= [\"Modeller\",\"Accuracy\"])\n",
    "\n",
    "for model in modeller:\n",
    "    isimler = model.__class__.__name__\n",
    "    y_pred = model.predict(X_test)\n",
    "    dogruluk = accuracy_score(y_test, y_pred)    \n",
    "    sonuc = pd.DataFrame([[isimler, dogruluk*100]], columns= [\"Modeller\",\"Accuracy\"])\n",
    "    sonuclar = sonuclar.append(sonuc)\n",
    "    \n",
    "    \n",
    "sns.barplot(x= 'Accuracy', y = 'Modeller', data=sonuclar, color=\"blue\")\n",
    "plt.xlabel('Accuracy %')\n",
    "plt.title('Modellerin Doğruluk Oranları');    "
   ]
  },
  {
   "cell_type": "code",
   "execution_count": 52,
   "metadata": {},
   "outputs": [
    {
     "data": {
      "text/plain": [
       "Text(0.5, 1.0, 'Cross Validation Scores')"
      ]
     },
     "execution_count": 52,
     "metadata": {},
     "output_type": "execute_result"
    },
    {
     "data": {
      "image/png": "[encoded data removed]",
      "text/plain": [
       "<Figure size 432x288 with 1 Axes>"
      ]
     },
     "metadata": {
      "needs_background": "light"
     },
     "output_type": "display_data"
    }
   ],
   "source": [
    "\n",
    "g = sns.barplot(x= 'Accuracy', y = 'Modeller', data=sonuclar)\n",
    "g.set_xlabel(\"Mean Accuracy\")\n",
    "g.set_title(\"Cross Validation Scores\")\n"
   ]
  },
  {
   "cell_type": "code",
   "execution_count": 53,
   "metadata": {},
   "outputs": [
    {
     "data": {
      "text/plain": [
       "Text(0, 0.5, 'Algorithm')"
      ]
     },
     "execution_count": 53,
     "metadata": {},
     "output_type": "execute_result"
    },
    {
     "data": {
      "image/png": "[encoded data removed]",
      "text/plain": [
       "<Figure size 720x576 with 1 Axes>"
      ]
     },
     "metadata": {
      "needs_background": "light"
     },
     "output_type": "display_data"
    }
   ],
   "source": [
    "plt.subplots(figsize =(10, 8))\n",
    "\n",
    "sns.barplot(x='Accuracy', y = 'Modeller', data = sonuclar, palette=\"Set3\")\n",
    "\n",
    "#prettify using pyplot: https://matplotlib.org/api/pyplot_api.html\n",
    "plt.title('Machine Learning Algorithm Accuracy Score \\n')\n",
    "plt.xlabel('Accuracy Score (%)')\n",
    "plt.ylabel('Algorithm')"
   ]
  },
  {
   "cell_type": "code",
   "execution_count": 54,
   "metadata": {},
   "outputs": [
    {
     "data": {
      "text/html": [
       "<div>\n",
       "<style scoped>\n",
       "    .dataframe tbody tr th:only-of-type {\n",
       "        vertical-align: middle;\n",
       "    }\n",
       "\n",
       "    .dataframe tbody tr th {\n",
       "        vertical-align: top;\n",
       "    }\n",
       "\n",
       "    .dataframe thead th {\n",
       "        text-align: right;\n",
       "    }\n",
       "</style>\n",
       "<table border=\"1\" class=\"dataframe\">\n",
       "  <thead>\n",
       "    <tr style=\"text-align: right;\">\n",
       "      <th></th>\n",
       "      <th>Modeller</th>\n",
       "      <th>Accuracy</th>\n",
       "    </tr>\n",
       "  </thead>\n",
       "  <tbody>\n",
       "    <tr>\n",
       "      <th>0</th>\n",
       "      <td>KNeighborsClassifier</td>\n",
       "      <td>99.370015</td>\n",
       "    </tr>\n",
       "    <tr>\n",
       "      <th>0</th>\n",
       "      <td>AdaBoostClassifier</td>\n",
       "      <td>97.188115</td>\n",
       "    </tr>\n",
       "    <tr>\n",
       "      <th>0</th>\n",
       "      <td>GradientBoostingClassifier</td>\n",
       "      <td>99.425889</td>\n",
       "    </tr>\n",
       "    <tr>\n",
       "      <th>0</th>\n",
       "      <td>MLPClassifier</td>\n",
       "      <td>17.455196</td>\n",
       "    </tr>\n",
       "    <tr>\n",
       "      <th>0</th>\n",
       "      <td>CatBoostClassifier</td>\n",
       "      <td>99.435667</td>\n",
       "    </tr>\n",
       "    <tr>\n",
       "      <th>0</th>\n",
       "      <td>GaussianNB</td>\n",
       "      <td>1.811731</td>\n",
       "    </tr>\n",
       "    <tr>\n",
       "      <th>0</th>\n",
       "      <td>DecisionTreeClassifier</td>\n",
       "      <td>99.437064</td>\n",
       "    </tr>\n",
       "    <tr>\n",
       "      <th>0</th>\n",
       "      <td>XGBClassifier</td>\n",
       "      <td>99.437064</td>\n",
       "    </tr>\n",
       "    <tr>\n",
       "      <th>0</th>\n",
       "      <td>LogisticRegression</td>\n",
       "      <td>97.181131</td>\n",
       "    </tr>\n",
       "    <tr>\n",
       "      <th>0</th>\n",
       "      <td>RandomForestClassifier</td>\n",
       "      <td>97.671430</td>\n",
       "    </tr>\n",
       "  </tbody>\n",
       "</table>\n",
       "</div>"
      ],
      "text/plain": [
       "                     Modeller   Accuracy\n",
       "0        KNeighborsClassifier  99.370015\n",
       "0          AdaBoostClassifier  97.188115\n",
       "0  GradientBoostingClassifier  99.425889\n",
       "0               MLPClassifier  17.455196\n",
       "0          CatBoostClassifier  99.435667\n",
       "0                  GaussianNB   1.811731\n",
       "0      DecisionTreeClassifier  99.437064\n",
       "0               XGBClassifier  99.437064\n",
       "0          LogisticRegression  97.181131\n",
       "0      RandomForestClassifier  97.671430"
      ]
     },
     "execution_count": 54,
     "metadata": {},
     "output_type": "execute_result"
    }
   ],
   "source": [
    "sonuclar"
   ]
  }
 ],
 "metadata": {
  "kernelspec": {
   "display_name": "Python 3",
   "language": "python",
   "name": "python3"
  },
  "language_info": {
   "codemirror_mode": {
    "name": "ipython",
    "version": 3
   },
   "file_extension": ".py",
   "mimetype": "text/x-python",
   "name": "python",
   "nbconvert_exporter": "python",
   "pygments_lexer": "ipython3",
   "version": "3.8.3"
  }
 },
 "nbformat": 4,
 "nbformat_minor": 4
}
